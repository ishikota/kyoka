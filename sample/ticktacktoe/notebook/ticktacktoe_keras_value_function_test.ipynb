{
 "cells": [
  {
   "cell_type": "markdown",
   "metadata": {},
   "source": [
    "# Setup for Performance Test"
   ]
  },
  {
   "cell_type": "markdown",
   "metadata": {},
   "source": [
    "## Path Configuration"
   ]
  },
  {
   "cell_type": "code",
   "execution_count": 1,
   "metadata": {
    "collapsed": false
   },
   "outputs": [
    {
     "name": "stderr",
     "output_type": "stream",
     "text": [
      "Using Theano backend.\n"
     ]
    }
   ],
   "source": [
    "import os\n",
    "import sys\n",
    "import argparse\n",
    "\n",
    "root = \"../\"*3\n",
    "src_path = os.path.join(root, \"kyoka\")\n",
    "sample_path = os.path.join(root, \"sample\")\n",
    "sys.path.append(root)\n",
    "sys.path.append(src_path)\n",
    "sys.path.append(sample_path)\n",
    "\n",
    "import logging as log\n",
    "log.basicConfig(format='[%(levelname)s] %(message)s', level=log.INFO)\n",
    "\n",
    "from kyoka.algorithm.montecarlo.montecarlo import MonteCarlo\n",
    "from kyoka.algorithm.td_learning.sarsa import Sarsa\n",
    "from kyoka.algorithm.td_learning.q_learning import QLearning\n",
    "from kyoka.algorithm.td_learning.sarsa_lambda import SarsaLambda\n",
    "from kyoka.algorithm.td_learning.q_lambda import QLambda\n",
    "\n",
    "from kyoka.policy.greedy_policy import GreedyPolicy\n",
    "from kyoka.policy.epsilon_greedy_policy import EpsilonGreedyPolicy\n",
    "from kyoka.finish_rule.watch_iteration_count import WatchIterationCount\n",
    "\n",
    "from sample.ticktacktoe.ticktacktoe_domain import TickTackToeDomain\n",
    "from sample.ticktacktoe.ticktacktoe_keras_value_function import TickTackToeKerasValueFunction\n",
    "from sample.ticktacktoe.ticktacktoe_helper import TickTackToeHelper\n",
    "from sample.ticktacktoe.ticktacktoe_manual_policy import TickTackToeManualPolicy\n",
    "from sample.ticktacktoe.ticktacktoe_perfect_policy import TickTackToePerfectPolicy\n",
    "from sample.ticktacktoe.ticktacktoe_performance_logger import TickTackToePerformanceLogger"
   ]
  },
  {
   "cell_type": "markdown",
   "metadata": {},
   "source": [
    "## Define Const for Performance Test"
   ]
  },
  {
   "cell_type": "code",
   "execution_count": 2,
   "metadata": {
    "collapsed": true
   },
   "outputs": [],
   "source": [
    "LOG_INTERVAL = 1000\n",
    "TEST_GAME_COUNT = 10\n",
    "TEST_INTERVAL = 10000\n",
    "IS_FIRST_PLAYER = True\n",
    "\n",
    "domain = TickTackToeDomain(is_first_player=IS_FIRST_PLAYER)"
   ]
  },
  {
   "cell_type": "markdown",
   "metadata": {},
   "source": [
    "## Setup Global Item for Performance Test"
   ]
  },
  {
   "cell_type": "code",
   "execution_count": 3,
   "metadata": {
    "collapsed": true
   },
   "outputs": [],
   "source": [
    "def gen_performance_logger():\n",
    "    callback = TickTackToePerformanceLogger()\n",
    "    callback.set_performance_test_interval(TEST_INTERVAL)\n",
    "    callback.set_is_first_player(IS_FIRST_PLAYER)\n",
    "    callback.set_test_game_count(TEST_GAME_COUNT)\n",
    "    return callback\n",
    "\n",
    "def run_performance_test(rl_algo, epsilon, test_length):\n",
    "    watch_iteration = WatchIterationCount(target_count=test_length, log_interval=LOG_INTERVAL)\n",
    "    finish_rules = [watch_iteration]\n",
    "    value_func = TickTackToeKerasValueFunction()\n",
    "    value_func.setUp()\n",
    "    policy = EpsilonGreedyPolicy(domain, value_func, eps=epsilon)\n",
    "    callback = gen_performance_logger()\n",
    "    rl_algo.set_gpi_callback(callback)\n",
    "    rl_algo.GPI(domain, policy, value_func, finish_rules)\n",
    "    return callback.game_log"
   ]
  },
  {
   "cell_type": "code",
   "execution_count": 4,
   "metadata": {
    "collapsed": true
   },
   "outputs": [],
   "source": [
    "%matplotlib inline\n",
    "import seaborn\n",
    "import matplotlib.pyplot as plt\n",
    "\n",
    "def visualize_test_result(title, performance_test_result):\n",
    "    labels = [TEST_INTERVAL * (i+1) for i in range(len(performance_test_result))]\n",
    "    lose_log, draw_log, win_log = [[log[1][i] for log in performance_test_result] for i in range(3)]\n",
    "\n",
    "    plt.figure(figsize=(10,5))\n",
    "    plt.plot(labels, lose_log, label=\"lose rate\")\n",
    "    plt.plot(labels, draw_log, label=\"draw rate\")\n",
    "    plt.plot(labels, win_log, label=\"win rate\")\n",
    "\n",
    "    plt.xlabel(\"GPI iteration\")\n",
    "    plt.ylabel(\"rate(%)\")\n",
    "    plt.title(title)\n",
    "    plt.legend(loc = 1)\n",
    "\n",
    "    plt.show()    "
   ]
  },
  {
   "cell_type": "code",
   "execution_count": 42,
   "metadata": {
    "collapsed": true
   },
   "outputs": [],
   "source": [
    "ACTION_NAME_MAP = {\n",
    "    1 : \"lower_right\",\n",
    "    2 : \"lower_center\",\n",
    "    4 : \"lower_left\",\n",
    "    8 : \"middle_right\",\n",
    "    16: \"middle_center\",\n",
    "    32: \"middle_left\",\n",
    "    64: \"upper_right\",\n",
    "    128: \"upper_center\",\n",
    "    256: \"upper_left\"\n",
    "}\n",
    "\n",
    "def gen_test_case():\n",
    "    bin2i = lambda b: int(b, 2)\n",
    "    \n",
    "    \"\"\"\n",
    "    - - -\n",
    "    - - -\n",
    "    - - -\n",
    "    \"\"\"\n",
    "    first_player_board = bin2i(\"000000000\")\n",
    "    second_player_board = bin2i(\"000000000\")\n",
    "    case1 = (first_player_board, second_player_board)\n",
    "    answer1 = {\n",
    "        'upper_right': 0, 'lower_left': 0, 'upper_left': 0, 'lower_right': 0, 'lower_center': 0,\n",
    "        'middle_right': 0, 'middle_left': 0, 'upper_center': 0, 'middle_center': 0\n",
    "    }\n",
    "    \n",
    "    \"\"\"\n",
    "    O O -\n",
    "    - - -\n",
    "    - X X\n",
    "    \"\"\"\n",
    "    first_player_board = bin2i(\"110000000\")\n",
    "    second_player_board = bin2i(\"000000011\")\n",
    "    case2 = (first_player_board, second_player_board)\n",
    "    answer2 = {'middle_right': -1, 'upper_right': 1, 'middle_left': -1, 'lower_left': 1, 'middle_center': -1}\n",
    "    \n",
    "    \"\"\"\n",
    "    - - O\n",
    "    - - X\n",
    "    - - -\n",
    "    \"\"\"\n",
    "    first_player_board = bin2i(\"0000010000\")\n",
    "    second_player_board = bin2i(\"000001000\")\n",
    "    case3 = (first_player_board, second_player_board)\n",
    "    answer3 = {'upper_right': 1, 'lower_left': 1, 'upper_left': 1, 'lower_right': 1, 'lower_center': 1, 'middle_left': 0, 'upper_center': 1}\n",
    "    \n",
    "    \"\"\"\n",
    "    - - -\n",
    "    - 0 X\n",
    "    - - -\n",
    "    \"\"\"\n",
    "    first_player_board = bin2i(\"010000000\")\n",
    "    second_player_board = bin2i(\"000001000\")\n",
    "    case4 = (first_player_board, second_player_board)\n",
    "    answer4 = {'upper_right': 1, 'lower_left': 0, 'upper_left': -1, 'lower_right': 0, 'lower_center': -1, 'middle_left': 0, 'middle_center': 1}\n",
    "    \n",
    "    \"\"\"\n",
    "    - O -\n",
    "    - - X\n",
    "    - - -\n",
    "    \"\"\"\n",
    "    first_player_board = bin2i(\"001000000\")\n",
    "    second_player_board = bin2i(\"000001000\")\n",
    "    case5 = (first_player_board, second_player_board)\n",
    "    answer5 = {'lower_left': 0, 'upper_left': 1, 'lower_right': 0, 'lower_center': 0, 'middle_left': 0, 'upper_center': 1, 'middle_center': 1}\n",
    "    \n",
    "    return zip([case1, case2, case3, case4, case5], [answer1, answer2, answer3, answer4, answer5])\n",
    "\n",
    "def visualize_policy(model_weights_path):\n",
    "    domain = TickTackToeDomain()\n",
    "    value_func = TickTackToeKerasValueFunction()\n",
    "    value_func.setUp()\n",
    "    value_func.load_model_weights(model_weights_path)\n",
    "    for state, answer in gen_test_case():\n",
    "        print TickTackToeHelper.visualize_board(state)\n",
    "        actions = [ACTION_NAME_MAP[action] for action in domain.generate_possible_actions(state)]\n",
    "        values = [value_func.calculate_value(state, action) for action in domain.generate_possible_actions(state)]\n",
    "        policy = {action:value for action, value in zip(actions, values)}\n",
    "        print \"answer => %s\" % sorted(answer.items(), key=lambda item: item[1])[::-1]\n",
    "        print \"policy => %s\" % sorted(policy.items(), key=lambda item: item[1])[::-1]\n",
    "        print"
   ]
  },
  {
   "cell_type": "markdown",
   "metadata": {},
   "source": [
    "# Sarsa"
   ]
  },
  {
   "cell_type": "code",
   "execution_count": 1,
   "metadata": {
    "collapsed": false
   },
   "outputs": [],
   "source": [
    "TEST_LENGTH = 1000000\n",
    "EPSILON = 0.3\n",
    "performance_test_result = run_performance_test(Sarsa(alpha=0.1, gamma=0.7), epsilon=EPSILON, test_length=TEST_LENGTH)\n",
    "visualize_test_result(\"Sarsa\", performance_test_result)"
   ]
  },
  {
   "cell_type": "markdown",
   "metadata": {},
   "source": [
    "<img src=\"./resource/Sarsa_eps_0.300000_test_result.png\" />"
   ]
  },
  {
   "cell_type": "code",
   "execution_count": 43,
   "metadata": {
    "collapsed": false
   },
   "outputs": [
    {
     "name": "stdout",
     "output_type": "stream",
     "text": [
      "- - -\n",
      "- - -\n",
      "- - -\n",
      "answer => [('lower_center', 0), ('middle_center', 0), ('lower_right', 0), ('upper_left', 0), ('upper_center', 0), ('lower_left', 0), ('middle_left', 0), ('middle_right', 0), ('upper_right', 0)]\n",
      "policy => [('upper_left', 0.21549654006958008), ('upper_right', 0.20649242401123047), ('middle_center', 0.19720602035522461), ('upper_center', 0.19693684577941895), ('lower_left', 0.19380760192871094), ('lower_right', 0.1855013370513916), ('middle_left', 0.17978930473327637), ('lower_center', 0.17633581161499023), ('middle_right', 0.16120791435241699)]\n",
      "\n",
      "O O -\n",
      "- - -\n",
      "- X X\n",
      "answer => [('lower_left', 1), ('upper_right', 1), ('middle_center', -1), ('middle_left', -1), ('middle_right', -1)]\n",
      "policy => [('upper_right', 1.010073184967041), ('lower_left', 0.48578739166259766), ('middle_left', 0.44510889053344727), ('middle_right', 0.3795771598815918), ('middle_center', 0.19780659675598145)]\n",
      "\n",
      "- - -\n",
      "- O X\n",
      "- - -\n",
      "answer => [('upper_center', 1), ('lower_center', 1), ('lower_right', 1), ('upper_left', 1), ('lower_left', 1), ('upper_right', 1), ('middle_left', 0)]\n",
      "policy => [('upper_right', 0.44565939903259277), ('lower_left', 0.4318385124206543), ('upper_left', 0.39017772674560547), ('lower_center', 0.37887763977050781), ('upper_center', 0.35259604454040527), ('lower_right', 0.34257960319519043), ('middle_left', 0.16243100166320801)]\n",
      "\n",
      "- O -\n",
      "- - X\n",
      "- - -\n",
      "answer => [('middle_center', 1), ('upper_right', 1), ('middle_left', 0), ('lower_right', 0), ('lower_left', 0), ('lower_center', -1), ('upper_left', -1)]\n",
      "policy => [('upper_right', 0.42953968048095703), ('upper_left', 0.41077589988708496), ('middle_center', 0.35259604454040527), ('lower_center', 0.29622292518615723), ('lower_left', 0.26919269561767578), ('lower_right', 0.26088666915893555), ('middle_left', 0.25517439842224121)]\n",
      "\n",
      "- - O\n",
      "- - X\n",
      "- - -\n",
      "answer => [('middle_center', 1), ('upper_center', 1), ('upper_left', 1), ('middle_left', 0), ('lower_center', 0), ('lower_right', 0), ('lower_left', 0)]\n",
      "policy => [('middle_center', 0.44565939903259277), ('upper_center', 0.42953968048095703), ('upper_left', 0.42360067367553711), ('lower_left', 0.27874851226806641), ('lower_right', 0.27044224739074707), ('middle_left', 0.26472997665405273), ('lower_center', 0.2612767219543457)]\n",
      "\n"
     ]
    }
   ],
   "source": [
    "visualize_policy(\"./resource/Sarsa_0.300000.h5\")"
   ]
  },
  {
   "cell_type": "code",
   "execution_count": null,
   "metadata": {
    "collapsed": true
   },
   "outputs": [],
   "source": [
    "start_time = time.time()\n",
    "TEST_LENGTH = 1000000\n",
    "EPSILON = 0.7\n",
    "performance_test_result = run_performance_test(Sarsa(alpha=0.1, gamma=0.7), epsilon=EPSILON, test_length=TEST_LENGTH)\n",
    "visualize_test_result(\"Sarsa\", performance_test_result)"
   ]
  },
  {
   "cell_type": "markdown",
   "metadata": {},
   "source": [
    "<img src=\"./resource/Sarsa_eps_0.700000_test_result.png\" />"
   ]
  },
  {
   "cell_type": "code",
   "execution_count": 44,
   "metadata": {
    "collapsed": false
   },
   "outputs": [
    {
     "name": "stdout",
     "output_type": "stream",
     "text": [
      "- - -\n",
      "- - -\n",
      "- - -\n",
      "answer => [('lower_center', 0), ('middle_center', 0), ('lower_right', 0), ('upper_left', 0), ('upper_center', 0), ('lower_left', 0), ('middle_left', 0), ('middle_right', 0), ('upper_right', 0)]\n",
      "policy => [('lower_left', 0.11326086521148682), ('upper_left', 0.1124175488948822), ('upper_right', 0.10433401167392731), ('lower_center', 0.101408451795578), ('upper_center', 0.10070347785949707), ('lower_right', 0.096334934234619141), ('middle_center', 0.095318853855133057), ('middle_right', 0.088748008012771606), ('middle_left', 0.082444429397583008)]\n",
      "\n",
      "O O -\n",
      "- - -\n",
      "- X X\n",
      "answer => [('lower_left', 1), ('upper_right', 1), ('middle_center', -1), ('middle_left', -1), ('middle_right', -1)]\n",
      "policy => [('upper_right', 0.98915904760360718), ('middle_left', 0.38471138477325439), ('lower_left', 0.3119371235370636), ('middle_center', 0.13226363062858582), ('middle_right', 0.12553438544273376)]\n",
      "\n",
      "- - -\n",
      "- O X\n",
      "- - -\n",
      "answer => [('upper_center', 1), ('lower_center', 1), ('lower_right', 1), ('upper_left', 1), ('lower_left', 1), ('upper_right', 1), ('middle_left', 0)]\n",
      "policy => [('lower_left', 0.29421532154083252), ('upper_right', 0.28917419910430908), ('lower_right', 0.28305846452713013), ('upper_left', 0.26432070136070251), ('upper_center', 0.24148663878440857), ('lower_center', 0.19439516961574554), ('middle_left', 0.031094897538423538)]\n",
      "\n",
      "- O -\n",
      "- - X\n",
      "- - -\n",
      "answer => [('middle_center', 1), ('upper_right', 1), ('middle_left', 0), ('lower_right', 0), ('lower_left', 0), ('lower_center', -1), ('upper_left', -1)]\n",
      "policy => [('lower_center', 0.29695585370063782), ('upper_right', 0.28119269013404846), ('middle_center', 0.24148663878440857), ('upper_left', 0.2160477489233017), ('lower_left', 0.12083637714385986), ('lower_right', 0.1142880767583847), ('middle_left', 0.066595688462257385)]\n",
      "\n",
      "- - O\n",
      "- - X\n",
      "- - -\n",
      "answer => [('middle_center', 1), ('upper_center', 1), ('upper_left', 1), ('middle_left', 0), ('lower_center', 0), ('lower_right', 0), ('lower_left', 0)]\n",
      "policy => [('middle_center', 0.28917419910430908), ('upper_center', 0.28119269013404846), ('upper_left', 0.25546467304229736), ('lower_left', 0.23777931928634644), ('lower_center', 0.12299232184886932), ('lower_right', 0.11791834235191345), ('middle_left', 0.10402815043926239)]\n",
      "\n"
     ]
    }
   ],
   "source": [
    "visualize_policy(\"./resource/Sarsa_0.700000.h5\")"
   ]
  },
  {
   "cell_type": "markdown",
   "metadata": {},
   "source": [
    "# QLearning"
   ]
  },
  {
   "cell_type": "code",
   "execution_count": null,
   "metadata": {
    "collapsed": false
   },
   "outputs": [],
   "source": [
    "TEST_LENGTH = 1000000\n",
    "EPSILON = 0.3\n",
    "performance_test_result = run_performance_test(QLearning(alpha=0.1, gamma=0.7), epsilon=EPSILON, test_length=TEST_LENGTH)\n",
    "visualize_test_result(\"QLearning\", performance_test_result)"
   ]
  },
  {
   "cell_type": "markdown",
   "metadata": {},
   "source": [
    "<img src=\"./resource/QLearning_eps_0.300000_test_result.png\" />"
   ]
  },
  {
   "cell_type": "code",
   "execution_count": 45,
   "metadata": {
    "collapsed": false
   },
   "outputs": [
    {
     "name": "stdout",
     "output_type": "stream",
     "text": [
      "- - -\n",
      "- - -\n",
      "- - -\n",
      "answer => [('lower_center', 0), ('middle_center', 0), ('lower_right', 0), ('upper_left', 0), ('upper_center', 0), ('lower_left', 0), ('middle_left', 0), ('middle_right', 0), ('upper_right', 0)]\n",
      "policy => [('middle_center', 0.25571227073669434), ('lower_left', 0.24657893180847168), ('middle_left', 0.24586057662963867), ('lower_right', 0.24305272102355957), ('lower_center', 0.23974251747131348), ('middle_right', 0.23496556282043457), ('upper_left', 0.23403549194335938), ('upper_right', 0.23064780235290527), ('upper_center', 0.22963213920593262)]\n",
      "\n",
      "O O -\n",
      "- - -\n",
      "- X X\n",
      "answer => [('lower_left', 1), ('upper_right', 1), ('middle_center', -1), ('middle_left', -1), ('middle_right', -1)]\n",
      "policy => [('upper_right', 0.89198422431945801), ('middle_left', 0.54090332984924316), ('lower_left', 0.48573088645935059), ('middle_center', 0.3596651554107666), ('middle_right', 0.3500361442565918)]\n",
      "\n",
      "- - -\n",
      "- O X\n",
      "- - -\n",
      "answer => [('upper_center', 1), ('lower_center', 1), ('lower_right', 1), ('upper_left', 1), ('lower_left', 1), ('upper_right', 1), ('middle_left', 0)]\n",
      "policy => [('upper_left', 0.46690511703491211), ('lower_left', 0.46338200569152832), ('lower_right', 0.4586341381072998), ('upper_center', 0.45472311973571777), ('upper_right', 0.4453279972076416), ('lower_center', 0.44071269035339355), ('middle_left', 0.28789710998535156)]\n",
      "\n",
      "- O -\n",
      "- - X\n",
      "- - -\n",
      "answer => [('middle_center', 1), ('upper_right', 1), ('middle_left', 0), ('lower_right', 0), ('lower_left', 0), ('lower_center', -1), ('upper_left', -1)]\n",
      "policy => [('lower_center', 0.46323084831237793), ('middle_center', 0.45472311973571777), ('upper_left', 0.44091558456420898), ('upper_right', 0.37901902198791504), ('middle_left', 0.25551581382751465), ('lower_left', 0.2405402660369873), ('lower_right', 0.2402641773223877)]\n",
      "\n",
      "- - O\n",
      "- - X\n",
      "- - -\n",
      "answer => [('middle_center', 1), ('upper_center', 1), ('upper_left', 1), ('middle_left', 0), ('lower_center', 0), ('lower_right', 0), ('lower_left', 0)]\n",
      "policy => [('middle_center', 0.4453279972076416), ('lower_left', 0.44158482551574707), ('upper_left', 0.4165349006652832), ('upper_center', 0.37901902198791504), ('middle_left', 0.26189565658569336), ('lower_center', 0.25375580787658691), ('lower_right', 0.2466437816619873)]\n",
      "\n"
     ]
    }
   ],
   "source": [
    "visualize_policy(\"./resource/QLearning_0.300000.h5\")"
   ]
  },
  {
   "cell_type": "code",
   "execution_count": null,
   "metadata": {
    "collapsed": true
   },
   "outputs": [],
   "source": [
    "TEST_LENGTH = 1000000\n",
    "EPSILON = 0.7\n",
    "performance_test_result = run_performance_test(QLearning(alpha=0.1, gamma=0.7), epsilon=EPSILON, test_length=TEST_LENGTH)\n",
    "visualize_test_result(\"QLearning\", performance_test_result)"
   ]
  },
  {
   "cell_type": "markdown",
   "metadata": {},
   "source": [
    "<img src=\"./resource/QLearning_eps_0.700000_test_result.png\" />"
   ]
  },
  {
   "cell_type": "code",
   "execution_count": 46,
   "metadata": {
    "collapsed": false
   },
   "outputs": [
    {
     "name": "stdout",
     "output_type": "stream",
     "text": [
      "- - -\n",
      "- - -\n",
      "- - -\n",
      "answer => [('lower_center', 0), ('middle_center', 0), ('lower_right', 0), ('upper_left', 0), ('upper_center', 0), ('lower_left', 0), ('middle_left', 0), ('middle_right', 0), ('upper_right', 0)]\n",
      "policy => [('middle_right', 0.27092453837394714), ('middle_center', 0.26903492212295532), ('middle_left', 0.26543664932250977), ('lower_right', 0.26532420516014099), ('upper_left', 0.26419740915298462), ('upper_right', 0.26265621185302734), ('upper_center', 0.26167270541191101), ('lower_center', 0.26039361953735352), ('lower_left', 0.25689363479614258)]\n",
      "\n",
      "O O -\n",
      "- - -\n",
      "- X X\n",
      "answer => [('lower_left', 1), ('upper_right', 1), ('middle_center', -1), ('middle_left', -1), ('middle_right', -1)]\n",
      "policy => [('upper_right', 1.1040643453598022), ('middle_left', 0.74620306491851807), ('lower_left', 0.63522964715957642), ('middle_right', 0.58852189779281616), ('middle_center', 0.44708132743835449)]\n",
      "\n",
      "- - -\n",
      "- O X\n",
      "- - -\n",
      "answer => [('upper_center', 1), ('lower_center', 1), ('lower_right', 1), ('upper_left', 1), ('lower_left', 1), ('upper_right', 1), ('middle_left', 0)]\n",
      "policy => [('upper_right', 0.50597047805786133), ('lower_left', 0.50420647859573364), ('lower_center', 0.47818011045455933), ('upper_left', 0.47396302223205566), ('lower_right', 0.46954113245010376), ('upper_center', 0.46209424734115601), ('middle_left', 0.23621183633804321)]\n",
      "\n",
      "- O -\n",
      "- - X\n",
      "- - -\n",
      "answer => [('middle_center', 1), ('upper_right', 1), ('middle_left', 0), ('lower_right', 0), ('lower_left', 0), ('lower_center', -1), ('upper_left', -1)]\n",
      "policy => [('upper_left', 0.62644094228744507), ('upper_right', 0.51526623964309692), ('lower_center', 0.47222673892974854), ('middle_center', 0.46209424734115601), ('lower_right', 0.27759397029876709), ('lower_left', 0.27319717407226562), ('middle_left', 0.25709885358810425)]\n",
      "\n",
      "- - O\n",
      "- - X\n",
      "- - -\n",
      "answer => [('middle_center', 1), ('upper_center', 1), ('upper_left', 1), ('middle_left', 0), ('lower_center', 0), ('lower_right', 0), ('lower_left', 0)]\n",
      "policy => [('upper_center', 0.51526623964309692), ('middle_center', 0.50597047805786133), ('lower_left', 0.47896093130111694), ('upper_left', 0.47422528266906738), ('lower_right', 0.33127161860466003), ('middle_left', 0.30588063597679138), ('lower_center', 0.27578836679458618)]\n",
      "\n"
     ]
    }
   ],
   "source": [
    "visualize_policy(\"./resource/QLearning_0.700000.h5\")"
   ]
  },
  {
   "cell_type": "markdown",
   "metadata": {},
   "source": [
    "# SarsaLambda"
   ]
  },
  {
   "cell_type": "code",
   "execution_count": null,
   "metadata": {
    "collapsed": true
   },
   "outputs": [],
   "source": [
    "performance_test_result = run_performance_test(SarsaLambda())\n",
    "visualize_test_result(performance_test_result)"
   ]
  },
  {
   "cell_type": "markdown",
   "metadata": {},
   "source": [
    "# QLambda"
   ]
  },
  {
   "cell_type": "code",
   "execution_count": null,
   "metadata": {
    "collapsed": false
   },
   "outputs": [],
   "source": [
    "TEST_LENGTH = 1000000\n",
    "EPSILON = 0.3\n",
    "performance_test_result = run_performance_test(QLambda(alpha=0.1, gamma=0.7), epsilon=EPSILON, test_length=TEST_LENGTH)\n",
    "visualize_test_result(\"QLambda\", performance_test_result)"
   ]
  },
  {
   "cell_type": "markdown",
   "metadata": {},
   "source": [
    "<img src=\"./resource/QLambda_eps_0.300000_test_result.png\" />"
   ]
  },
  {
   "cell_type": "code",
   "execution_count": 50,
   "metadata": {
    "collapsed": false
   },
   "outputs": [
    {
     "name": "stdout",
     "output_type": "stream",
     "text": [
      "- - -\n",
      "- - -\n",
      "- - -\n",
      "answer => [('lower_center', 0), ('middle_center', 0), ('lower_right', 0), ('upper_left', 0), ('upper_center', 0), ('lower_left', 0), ('middle_left', 0), ('middle_right', 0), ('upper_right', 0)]\n",
      "policy => [('upper_right', 0.24756813049316406), ('upper_left', -0.12658882141113281), ('lower_left', -0.15363121032714844), ('lower_center', -0.23360061645507812), ('middle_left', -0.24387359619140625), ('middle_center', -0.28474235534667969), ('upper_center', -0.3054351806640625), ('lower_right', -0.33952713012695312), ('middle_right', -0.35486221313476562)]\n",
      "\n",
      "O O -\n",
      "- - -\n",
      "- X X\n",
      "answer => [('lower_left', 1), ('upper_right', 1), ('middle_center', -1), ('middle_left', -1), ('middle_right', -1)]\n",
      "policy => [('upper_right', 0.71581268310546875), ('lower_left', -0.16546821594238281), ('middle_left', -0.25571250915527344), ('middle_center', -0.29657936096191406), ('middle_right', -0.36669921875)]\n",
      "\n",
      "- - -\n",
      "- O X\n",
      "- - -\n",
      "answer => [('upper_center', 1), ('lower_center', 1), ('lower_right', 1), ('upper_left', 1), ('lower_left', 1), ('upper_right', 1), ('middle_left', 0)]\n",
      "policy => [('upper_right', 0.38982391357421875), ('upper_left', -0.081548690795898438), ('lower_left', -0.10859489440917969), ('lower_center', -0.18856048583984375), ('middle_left', -0.19883537292480469), ('upper_center', -0.26039505004882812), ('lower_right', -0.29449272155761719)]\n",
      "\n",
      "- O -\n",
      "- - X\n",
      "- - -\n",
      "answer => [('middle_center', 1), ('upper_right', 1), ('middle_left', 0), ('lower_right', 0), ('lower_left', 0), ('lower_center', -1), ('upper_left', -1)]\n",
      "policy => [('upper_right', 0.41957855224609375), ('upper_left', -0.10224342346191406), ('lower_left', -0.1292877197265625), ('lower_center', -0.20925521850585938), ('middle_left', -0.2195281982421875), ('middle_center', -0.26039505004882812), ('lower_right', -0.315185546875)]\n",
      "\n",
      "- - O\n",
      "- - X\n",
      "- - -\n",
      "answer => [('middle_center', 1), ('upper_center', 1), ('upper_left', 1), ('middle_left', 0), ('lower_center', 0), ('lower_right', 0), ('lower_left', 0)]\n",
      "policy => [('lower_left', 0.50568389892578125), ('lower_right', 0.42392349243164062), ('upper_center', 0.41957855224609375), ('upper_left', 0.40385055541992188), ('middle_center', 0.38982391357421875), ('lower_center', 0.3342437744140625), ('middle_left', 0.23924827575683594)]\n",
      "\n"
     ]
    }
   ],
   "source": [
    "visualize_policy(\"./resource/QLambda_0.300000.h5\")"
   ]
  },
  {
   "cell_type": "code",
   "execution_count": null,
   "metadata": {
    "collapsed": true
   },
   "outputs": [],
   "source": [
    "TEST_LENGTH = 1000000\n",
    "EPSILON = 0.7\n",
    "performance_test_result = run_performance_test(QLambda(alpha=0.1, gamma=0.7), epsilon=EPSILON, test_length=TEST_LENGTH)\n",
    "visualize_test_result(\"QLambda\", performance_test_result)"
   ]
  },
  {
   "cell_type": "markdown",
   "metadata": {},
   "source": [
    "<img src=\"./resource/QLambda_eps_0.700000_test_result.png\" />"
   ]
  },
  {
   "cell_type": "code",
   "execution_count": 49,
   "metadata": {
    "collapsed": false
   },
   "outputs": [
    {
     "name": "stdout",
     "output_type": "stream",
     "text": [
      "- - -\n",
      "- - -\n",
      "- - -\n",
      "answer => [('lower_center', 0), ('middle_center', 0), ('lower_right', 0), ('upper_left', 0), ('upper_center', 0), ('lower_left', 0), ('middle_left', 0), ('middle_right', 0), ('upper_right', 0)]\n",
      "policy => [('lower_right', 0.24588648974895477), ('upper_left', 0.23946882784366608), ('middle_center', 0.23672489821910858), ('lower_center', 0.23346804082393646), ('middle_right', 0.23132719099521637), ('upper_center', 0.2300858348608017), ('lower_left', 0.22817088663578033), ('upper_right', 0.21583981812000275), ('middle_left', 0.19873262941837311)]\n",
      "\n",
      "O O -\n",
      "- - -\n",
      "- X X\n",
      "answer => [('lower_left', 1), ('upper_right', 1), ('middle_center', -1), ('middle_left', -1), ('middle_right', -1)]\n",
      "policy => [('upper_right', 0.80934619903564453), ('middle_left', 0.40353798866271973), ('middle_right', 0.40341246128082275), ('lower_left', 0.36922961473464966), ('middle_center', 0.17810873687267303)]\n",
      "\n",
      "- - -\n",
      "- O X\n",
      "- - -\n",
      "answer => [('upper_center', 1), ('lower_center', 1), ('lower_right', 1), ('upper_left', 1), ('lower_left', 1), ('upper_right', 1), ('middle_left', 0)]\n",
      "policy => [('upper_right', 0.44400912523269653), ('lower_right', 0.44359719753265381), ('upper_center', 0.44110584259033203), ('lower_center', 0.42816770076751709), ('upper_left', 0.42286843061447144), ('lower_left', 0.42155039310455322), ('middle_left', 0.16869108378887177)]\n",
      "\n",
      "- O -\n",
      "- - X\n",
      "- - -\n",
      "answer => [('middle_center', 1), ('upper_right', 1), ('middle_left', 0), ('lower_right', 0), ('lower_left', 0), ('lower_center', -1), ('upper_left', -1)]\n",
      "policy => [('lower_center', 0.44422227144241333), ('middle_center', 0.44110584259033203), ('upper_left', 0.3882562518119812), ('upper_right', 0.36300408840179443), ('lower_left', 0.27996921539306641), ('middle_left', 0.22647206485271454), ('lower_right', 0.22221235930919647)]\n",
      "\n",
      "- - O\n",
      "- - X\n",
      "- - -\n",
      "answer => [('middle_center', 1), ('upper_center', 1), ('upper_left', 1), ('middle_left', 0), ('lower_center', 0), ('lower_right', 0), ('lower_left', 0)]\n",
      "policy => [('middle_center', 0.44400912523269653), ('upper_left', 0.37666803598403931), ('upper_center', 0.36300408840179443), ('lower_left', 0.36207681894302368), ('lower_right', 0.22192873060703278), ('lower_center', 0.18743346631526947), ('middle_left', 0.16354952752590179)]\n",
      "\n"
     ]
    }
   ],
   "source": [
    "visualize_policy(\"./resource/QLambda_0.700000.h5\")"
   ]
  }
 ],
 "metadata": {
  "kernelspec": {
   "display_name": "Python 2",
   "language": "python",
   "name": "python2"
  },
  "language_info": {
   "codemirror_mode": {
    "name": "ipython",
    "version": 2
   },
   "file_extension": ".py",
   "mimetype": "text/x-python",
   "name": "python",
   "nbconvert_exporter": "python",
   "pygments_lexer": "ipython2",
   "version": "2.7.11"
  }
 },
 "nbformat": 4,
 "nbformat_minor": 0
}
