{
 "cells": [
  {
   "cell_type": "markdown",
   "metadata": {},
   "source": [
    "# Setup for Performance Test"
   ]
  },
  {
   "cell_type": "markdown",
   "metadata": {},
   "source": [
    "## Path Configuration"
   ]
  },
  {
   "cell_type": "code",
   "execution_count": 1,
   "metadata": {
    "collapsed": false
   },
   "outputs": [
    {
     "name": "stderr",
     "output_type": "stream",
     "text": [
      "Using Theano backend.\n"
     ]
    }
   ],
   "source": [
    "import os\n",
    "import sys\n",
    "import argparse\n",
    "\n",
    "root = \"../\"*3\n",
    "src_path = os.path.join(root, \"kyoka\")\n",
    "sample_path = os.path.join(root, \"sample\")\n",
    "sys.path.append(root)\n",
    "sys.path.append(src_path)\n",
    "sys.path.append(sample_path)\n",
    "\n",
    "import logging as log\n",
    "log.basicConfig(format='[%(levelname)s] %(message)s', level=log.INFO)\n",
    "\n",
    "from kyoka.algorithm.montecarlo.montecarlo import MonteCarlo\n",
    "from kyoka.algorithm.td_learning.sarsa import Sarsa\n",
    "from kyoka.algorithm.td_learning.q_learning import QLearning\n",
    "from kyoka.algorithm.td_learning.sarsa_lambda import SarsaLambda\n",
    "from kyoka.algorithm.td_learning.q_lambda import QLambda\n",
    "\n",
    "from kyoka.policy.greedy_policy import GreedyPolicy\n",
    "from kyoka.policy.epsilon_greedy_policy import EpsilonGreedyPolicy\n",
    "from kyoka.finish_rule.watch_iteration_count import WatchIterationCount\n",
    "\n",
    "from sample.ticktacktoe.ticktacktoe_domain import TickTackToeDomain\n",
    "from sample.ticktacktoe.ticktacktoe_keras_value_function import TickTackToeKerasValueFunction\n",
    "from sample.ticktacktoe.ticktacktoe_helper import TickTackToeHelper\n",
    "from sample.ticktacktoe.ticktacktoe_manual_policy import TickTackToeManualPolicy\n",
    "from sample.ticktacktoe.ticktacktoe_perfect_policy import TickTackToePerfectPolicy\n",
    "from sample.ticktacktoe.ticktacktoe_performance_logger import TickTackToePerformanceLogger"
   ]
  },
  {
   "cell_type": "markdown",
   "metadata": {},
   "source": [
    "## Define Const for Performance Test"
   ]
  },
  {
   "cell_type": "code",
   "execution_count": 2,
   "metadata": {
    "collapsed": true
   },
   "outputs": [],
   "source": [
    "LOG_INTERVAL = 1000\n",
    "TEST_GAME_COUNT = 10\n",
    "TEST_INTERVAL = 50000\n",
    "IS_FIRST_PLAYER = True\n",
    "\n",
    "domain = TickTackToeDomain(is_first_player=IS_FIRST_PLAYER)"
   ]
  },
  {
   "cell_type": "markdown",
   "metadata": {},
   "source": [
    "## Setup Global Item for Performance Test"
   ]
  },
  {
   "cell_type": "code",
   "execution_count": 3,
   "metadata": {
    "collapsed": true
   },
   "outputs": [],
   "source": [
    "def gen_performance_logger():\n",
    "    callback = TickTackToePerformanceLogger()\n",
    "    callback.set_performance_test_interval(TEST_INTERVAL)\n",
    "    callback.set_is_first_player(IS_FIRST_PLAYER)\n",
    "    callback.set_test_game_count(TEST_GAME_COUNT)\n",
    "    return callback\n",
    "\n",
    "def run_performance_test(rl_algo, epsilon, test_length):\n",
    "    watch_iteration = WatchIterationCount(target_count=test_length, log_interval=LOG_INTERVAL)\n",
    "    finish_rules = [watch_iteration]\n",
    "    value_func = TickTackToeKerasValueFunction()\n",
    "    value_func.setUp()\n",
    "    policy = EpsilonGreedyPolicy(eps=epsilon)\n",
    "    callback = gen_performance_logger()\n",
    "    rl_algo.set_gpi_callback(callback)\n",
    "    rl_algo.GPI(domain, policy, value_func, finish_rules)\n",
    "    return callback.game_log"
   ]
  },
  {
   "cell_type": "code",
   "execution_count": 4,
   "metadata": {
    "collapsed": true
   },
   "outputs": [],
   "source": [
    "%matplotlib inline\n",
    "import seaborn\n",
    "import matplotlib.pyplot as plt\n",
    "\n",
    "def visualize_test_result(title, performance_test_result):\n",
    "    labels = [TEST_INTERVAL * (i+1) for i in range(len(performance_test_result))]\n",
    "    lose_log, draw_log, win_log = [[log[1][i] for log in performance_test_result] for i in range(3)]\n",
    "\n",
    "    plt.figure(figsize=(10,5))\n",
    "    plt.plot(labels, lose_log, label=\"lose rate\")\n",
    "    plt.plot(labels, draw_log, label=\"draw rate\")\n",
    "    plt.plot(labels, win_log, label=\"win rate\")\n",
    "\n",
    "    plt.xlabel(\"GPI iteration\")\n",
    "    plt.ylabel(\"rate(%)\")\n",
    "    plt.title(title)\n",
    "    plt.legend(loc = 1)\n",
    "\n",
    "    plt.show()    "
   ]
  },
  {
   "cell_type": "code",
   "execution_count": 5,
   "metadata": {
    "collapsed": true
   },
   "outputs": [],
   "source": [
    "ACTION_NAME_MAP = {\n",
    "    1 : \"lower_right\",\n",
    "    2 : \"lower_center\",\n",
    "    4 : \"lower_left\",\n",
    "    8 : \"middle_right\",\n",
    "    16: \"middle_center\",\n",
    "    32: \"middle_left\",\n",
    "    64: \"upper_right\",\n",
    "    128: \"upper_center\",\n",
    "    256: \"upper_left\"\n",
    "}\n",
    "\n",
    "def gen_test_case():\n",
    "    bin2i = lambda b: int(b, 2)\n",
    "    \n",
    "    \"\"\"\n",
    "    - - -\n",
    "    - - -\n",
    "    - - -\n",
    "    \"\"\"\n",
    "    first_player_board = bin2i(\"000000000\")\n",
    "    second_player_board = bin2i(\"000000000\")\n",
    "    case1 = (first_player_board, second_player_board)\n",
    "    answer1 = {\n",
    "        'upper_right': 0, 'lower_left': 0, 'upper_left': 0, 'lower_right': 0, 'lower_center': 0,\n",
    "        'middle_right': 0, 'middle_left': 0, 'upper_center': 0, 'middle_center': 0\n",
    "    }\n",
    "    \n",
    "    \"\"\"\n",
    "    O O -\n",
    "    - - -\n",
    "    - X X\n",
    "    \"\"\"\n",
    "    first_player_board = bin2i(\"110000000\")\n",
    "    second_player_board = bin2i(\"000000011\")\n",
    "    case2 = (first_player_board, second_player_board)\n",
    "    answer2 = {'middle_right': -1, 'upper_right': 1, 'middle_left': -1, 'lower_left': 1, 'middle_center': -1}\n",
    "    \n",
    "    \"\"\"\n",
    "    - - O\n",
    "    - - X\n",
    "    - - -\n",
    "    \"\"\"\n",
    "    first_player_board = bin2i(\"0000010000\")\n",
    "    second_player_board = bin2i(\"000001000\")\n",
    "    case3 = (first_player_board, second_player_board)\n",
    "    answer3 = {'upper_right': 1, 'lower_left': 1, 'upper_left': 1, 'lower_right': 1, 'lower_center': 1, 'middle_left': 0, 'upper_center': 1}\n",
    "    \n",
    "    \"\"\"\n",
    "    - - -\n",
    "    - 0 X\n",
    "    - - -\n",
    "    \"\"\"\n",
    "    first_player_board = bin2i(\"010000000\")\n",
    "    second_player_board = bin2i(\"000001000\")\n",
    "    case4 = (first_player_board, second_player_board)\n",
    "    answer4 = {'upper_right': 1, 'lower_left': 0, 'upper_left': -1, 'lower_right': 0, 'lower_center': -1, 'middle_left': 0, 'middle_center': 1}\n",
    "    \n",
    "    \"\"\"\n",
    "    - O -\n",
    "    - - X\n",
    "    - - -\n",
    "    \"\"\"\n",
    "    first_player_board = bin2i(\"001000000\")\n",
    "    second_player_board = bin2i(\"000001000\")\n",
    "    case5 = (first_player_board, second_player_board)\n",
    "    answer5 = {'lower_left': 0, 'upper_left': 1, 'lower_right': 0, 'lower_center': 0, 'middle_left': 0, 'upper_center': 1, 'middle_center': 1}\n",
    "    \n",
    "    return zip([case1, case2, case3, case4, case5], [answer1, answer2, answer3, answer4, answer5])\n",
    "\n",
    "def visualize_policy(model_weights_path):\n",
    "    domain = TickTackToeDomain()\n",
    "    value_func = TickTackToeKerasValueFunction()\n",
    "    value_func.setUp()\n",
    "    value_func.load_model_weights(model_weights_path)\n",
    "    for state, answer in gen_test_case():\n",
    "        print TickTackToeHelper.visualize_board(state)\n",
    "        actions = [ACTION_NAME_MAP[action] for action in domain.generate_possible_actions(state)]\n",
    "        values = [value_func.calculate_value(state, action) for action in domain.generate_possible_actions(state)]\n",
    "        policy = {action:value for action, value in zip(actions, values)}\n",
    "        print \"answer => %s\" % sorted(answer.items(), key=lambda item: item[1])[::-1]\n",
    "        print \"policy => %s\" % sorted(policy.items(), key=lambda item: item[1])[::-1]\n",
    "        print"
   ]
  },
  {
   "cell_type": "markdown",
   "metadata": {},
   "source": [
    "# Sarsa"
   ]
  },
  {
   "cell_type": "code",
   "execution_count": null,
   "metadata": {
    "collapsed": true
   },
   "outputs": [],
   "source": [
    "start_time = time.time()\n",
    "TEST_LENGTH = 5000000\n",
    "EPSILON = 0.7\n",
    "performance_test_result = run_performance_test(Sarsa(alpha=0.1, gamma=0.7), epsilon=EPSILON, test_length=TEST_LENGTH)\n",
    "visualize_test_result(\"Sarsa\", performance_test_result)"
   ]
  },
  {
   "cell_type": "markdown",
   "metadata": {},
   "source": [
    "<img src=\"./resource/5million_gpi/Sarsa_eps_0.700000_test_result.png\" />"
   ]
  },
  {
   "cell_type": "code",
   "execution_count": 6,
   "metadata": {
    "collapsed": false
   },
   "outputs": [
    {
     "name": "stdout",
     "output_type": "stream",
     "text": [
      "- - -\n",
      "- - -\n",
      "- - -\n",
      "answer => [('lower_center', 0), ('middle_center', 0), ('lower_right', 0), ('upper_left', 0), ('upper_center', 0), ('lower_left', 0), ('middle_left', 0), ('middle_right', 0), ('upper_right', 0)]\n",
      "policy => [('middle_center', 0.16172975301742554), ('lower_left', 0.157234787940979), ('upper_left', 0.15287885069847107), ('upper_right', 0.14654052257537842), ('lower_right', 0.13548466563224792), ('middle_right', 0.12535545229911804), ('middle_left', 0.11796092987060547), ('lower_center', 0.11647436022758484), ('upper_center', 0.10265439748764038)]\n",
      "\n",
      "O O -\n",
      "- - -\n",
      "- X X\n",
      "answer => [('lower_left', 1), ('upper_right', 1), ('middle_center', -1), ('middle_left', -1), ('middle_right', -1)]\n",
      "policy => [('upper_right', 0.94527852535247803), ('lower_left', 0.42774173617362976), ('middle_left', 0.38773348927497864), ('middle_right', 0.26842990517616272), ('middle_center', 0.10787613689899445)]\n",
      "\n",
      "- - -\n",
      "- O X\n",
      "- - -\n",
      "answer => [('upper_center', 1), ('lower_center', 1), ('lower_right', 1), ('upper_left', 1), ('lower_left', 1), ('upper_right', 1), ('middle_left', 0)]\n",
      "policy => [('lower_right', 0.33790537714958191), ('upper_left', 0.32655254006385803), ('lower_left', 0.32593047618865967), ('upper_right', 0.28926530480384827), ('lower_center', 0.27518472075462341), ('upper_center', 0.26652154326438904), ('middle_left', 0.111919105052948)]\n",
      "\n",
      "- O -\n",
      "- - X\n",
      "- - -\n",
      "answer => [('middle_center', 1), ('upper_right', 1), ('middle_left', 0), ('lower_right', 0), ('lower_left', 0), ('lower_center', -1), ('upper_left', -1)]\n",
      "policy => [('upper_left', 0.27044516801834106), ('middle_center', 0.26652154326438904), ('upper_right', 0.23891010880470276), ('lower_center', 0.23768755793571472), ('lower_right', 0.13381224870681763), ('lower_left', 0.12647458910942078), ('middle_left', 0.087260082364082336)]\n",
      "\n",
      "- - O\n",
      "- - X\n",
      "- - -\n",
      "answer => [('middle_center', 1), ('upper_center', 1), ('upper_left', 1), ('middle_left', 0), ('lower_center', 0), ('lower_right', 0), ('lower_left', 0)]\n",
      "policy => [('upper_left', 0.30268347263336182), ('middle_center', 0.28926530480384827), ('lower_left', 0.28541010618209839), ('upper_center', 0.23891010880470276), ('middle_left', 0.14708921313285828), ('lower_right', 0.11602509021759033), ('lower_center', 0.087514102458953857)]\n",
      "\n"
     ]
    }
   ],
   "source": [
    "visualize_policy(\"./resource/5million_gpi/Sarsa_0.700000.h5\")"
   ]
  },
  {
   "cell_type": "markdown",
   "metadata": {},
   "source": [
    "# QLearning"
   ]
  },
  {
   "cell_type": "code",
   "execution_count": null,
   "metadata": {
    "collapsed": true
   },
   "outputs": [],
   "source": [
    "TEST_LENGTH = 5000000\n",
    "EPSILON = 0.7\n",
    "performance_test_result = run_performance_test(QLearning(alpha=0.1, gamma=0.7), epsilon=EPSILON, test_length=TEST_LENGTH)\n",
    "visualize_test_result(\"QLearning\", performance_test_result)"
   ]
  },
  {
   "cell_type": "markdown",
   "metadata": {},
   "source": [
    "<img src=\"./resource/5million_gpi/QLearning_eps_0.700000_test_result.png\" />"
   ]
  },
  {
   "cell_type": "code",
   "execution_count": 9,
   "metadata": {
    "collapsed": false
   },
   "outputs": [
    {
     "name": "stdout",
     "output_type": "stream",
     "text": [
      "- - -\n",
      "- - -\n",
      "- - -\n",
      "answer => [('lower_center', 0), ('middle_center', 0), ('lower_right', 0), ('upper_left', 0), ('upper_center', 0), ('lower_left', 0), ('middle_left', 0), ('middle_right', 0), ('upper_right', 0)]\n",
      "policy => [('lower_left', 0.29407450556755066), ('upper_left', 0.28823432326316833), ('upper_right', 0.2830960750579834), ('middle_left', 0.28111934661865234), ('middle_right', 0.28003492951393127), ('lower_right', 0.27665066719055176), ('upper_center', 0.26782119274139404), ('lower_center', 0.25591105222702026), ('middle_center', 0.25582700967788696)]\n",
      "\n",
      "O O -\n",
      "- - -\n",
      "- X X\n",
      "answer => [('lower_left', 1), ('upper_right', 1), ('middle_center', -1), ('middle_left', -1), ('middle_right', -1)]\n",
      "policy => [('upper_right', 1.0543733835220337), ('lower_left', 0.55598914623260498), ('middle_left', 0.47618782520294189), ('middle_right', 0.46231412887573242), ('middle_center', 0.41034692525863647)]\n",
      "\n",
      "- - -\n",
      "- O X\n",
      "- - -\n",
      "answer => [('upper_center', 1), ('lower_center', 1), ('lower_right', 1), ('upper_left', 1), ('lower_left', 1), ('upper_right', 1), ('middle_left', 0)]\n",
      "policy => [('upper_left', 0.51769864559173584), ('lower_right', 0.50623250007629395), ('upper_right', 0.44352424144744873), ('lower_left', 0.4410509467124939), ('upper_center', 0.43825078010559082), ('lower_center', 0.41174131631851196), ('middle_left', 0.20701172947883606)]\n",
      "\n",
      "- O -\n",
      "- - X\n",
      "- - -\n",
      "answer => [('middle_center', 1), ('upper_right', 1), ('middle_left', 0), ('lower_right', 0), ('lower_left', 0), ('lower_center', -1), ('upper_left', -1)]\n",
      "policy => [('upper_left', 0.51532357931137085), ('upper_right', 0.48372870683670044), ('lower_center', 0.47738915681838989), ('middle_center', 0.43825078010559082), ('lower_left', 0.28367319703102112), ('lower_right', 0.2757517397403717), ('middle_left', 0.22826851904392242)]\n",
      "\n",
      "- - O\n",
      "- - X\n",
      "- - -\n",
      "answer => [('middle_center', 1), ('upper_center', 1), ('upper_left', 1), ('middle_left', 0), ('lower_center', 0), ('lower_right', 0), ('lower_left', 0)]\n",
      "policy => [('upper_left', 0.50879538059234619), ('lower_left', 0.50853258371353149), ('upper_center', 0.48372870683670044), ('middle_center', 0.44352424144744873), ('middle_left', 0.28757810592651367), ('lower_right', 0.2777058482170105), ('lower_center', 0.2699158787727356)]\n",
      "\n"
     ]
    }
   ],
   "source": [
    "visualize_policy(\"./resource/5million_gpi/QLearning_0.700000.h5\")"
   ]
  },
  {
   "cell_type": "markdown",
   "metadata": {},
   "source": [
    "# SarsaLambda"
   ]
  },
  {
   "cell_type": "code",
   "execution_count": null,
   "metadata": {
    "collapsed": true
   },
   "outputs": [],
   "source": [
    "performance_test_result = run_performance_test(SarsaLambda())\n",
    "visualize_test_result(performance_test_result)"
   ]
  },
  {
   "cell_type": "markdown",
   "metadata": {},
   "source": [
    "# QLambda"
   ]
  },
  {
   "cell_type": "code",
   "execution_count": null,
   "metadata": {
    "collapsed": false
   },
   "outputs": [],
   "source": [
    "TEST_LENGTH = 5000000\n",
    "EPSILON = 0.3\n",
    "performance_test_result = run_performance_test(QLambda(alpha=0.1, gamma=0.7), epsilon=EPSILON, test_length=TEST_LENGTH)\n",
    "visualize_test_result(\"QLambda\", performance_test_result)"
   ]
  },
  {
   "cell_type": "markdown",
   "metadata": {},
   "source": [
    "<img src=\"./resource/5million_gpi/QLambda_eps_0.300000_test_result.png\" />"
   ]
  },
  {
   "cell_type": "code",
   "execution_count": 8,
   "metadata": {
    "collapsed": false
   },
   "outputs": [
    {
     "name": "stdout",
     "output_type": "stream",
     "text": [
      "- - -\n",
      "- - -\n",
      "- - -\n",
      "answer => [('lower_center', 0), ('middle_center', 0), ('lower_right', 0), ('upper_left', 0), ('upper_center', 0), ('lower_left', 0), ('middle_left', 0), ('middle_right', 0), ('upper_right', 0)]\n",
      "policy => [('lower_center', 0.22246670722961426), ('lower_right', 0.22246667742729187), ('middle_center', 0.22246666252613068), ('upper_center', 0.22246666252613068), ('upper_left', 0.22246666252613068), ('upper_right', 0.22246666252613068), ('middle_left', 0.22246661782264709), ('middle_right', 0.2224666029214859), ('lower_left', 0.22246649861335754)]\n",
      "\n",
      "O O -\n",
      "- - -\n",
      "- X X\n",
      "answer => [('lower_left', 1), ('upper_right', 1), ('middle_center', -1), ('middle_left', -1), ('middle_right', -1)]\n",
      "policy => [('upper_right', 0.97080790996551514), ('middle_left', 0.494884192943573), ('lower_left', 0.37983113527297974), ('middle_right', 0.37916263937950134), ('middle_center', 0.24135981500148773)]\n",
      "\n",
      "- - -\n",
      "- O X\n",
      "- - -\n",
      "answer => [('upper_center', 1), ('lower_center', 1), ('lower_right', 1), ('upper_left', 1), ('lower_left', 1), ('upper_right', 1), ('middle_left', 0)]\n",
      "policy => [('lower_right', 0.50215309858322144), ('lower_center', 0.45874232053756714), ('upper_center', 0.44864875078201294), ('lower_left', 0.41722762584686279), ('upper_left', 0.40865284204483032), ('upper_right', 0.37063759565353394), ('middle_left', 0.22246669232845306)]\n",
      "\n",
      "- O -\n",
      "- - X\n",
      "- - -\n",
      "answer => [('middle_center', 1), ('upper_right', 1), ('middle_left', 0), ('lower_right', 0), ('lower_left', 0), ('lower_center', -1), ('upper_left', -1)]\n",
      "policy => [('lower_center', 0.51900243759155273), ('middle_center', 0.44864875078201294), ('upper_right', 0.42839395999908447), ('upper_left', 0.36172258853912354), ('middle_left', 0.22246681153774261), ('lower_right', 0.22246681153774261), ('lower_left', 0.22246667742729187)]\n",
      "\n",
      "- - O\n",
      "- - X\n",
      "- - -\n",
      "answer => [('middle_center', 1), ('upper_center', 1), ('upper_left', 1), ('middle_left', 0), ('lower_center', 0), ('lower_right', 0), ('lower_left', 0)]\n",
      "policy => [('upper_left', 0.45653879642486572), ('lower_left', 0.43230867385864258), ('upper_center', 0.42839395999908447), ('middle_center', 0.37063759565353394), ('middle_left', 0.22246728837490082), ('lower_right', 0.22246661782264709), ('lower_center', 0.2224666029214859)]\n",
      "\n"
     ]
    }
   ],
   "source": [
    "visualize_policy(\"./resource/5million_gpi/QLambda_0.300000.h5\")"
   ]
  }
 ],
 "metadata": {
  "kernelspec": {
   "display_name": "Python 2",
   "language": "python",
   "name": "python2"
  },
  "language_info": {
   "codemirror_mode": {
    "name": "ipython",
    "version": 2
   },
   "file_extension": ".py",
   "mimetype": "text/x-python",
   "name": "python",
   "nbconvert_exporter": "python",
   "pygments_lexer": "ipython2",
   "version": "2.7.11"
  }
 },
 "nbformat": 4,
 "nbformat_minor": 0
}
