{
 "cells": [
  {
   "cell_type": "markdown",
   "metadata": {},
   "source": [
    "# Path Configuration"
   ]
  },
  {
   "cell_type": "code",
   "execution_count": 1,
   "metadata": {
    "collapsed": false
   },
   "outputs": [
    {
     "name": "stderr",
     "output_type": "stream",
     "text": [
      "Using Theano backend.\n"
     ]
    }
   ],
   "source": [
    "import os\n",
    "import sys\n",
    "import argparse\n",
    "\n",
    "root = \"../\"*3\n",
    "src_path = os.path.join(root, \"kyoka\")\n",
    "sample_path = os.path.join(root, \"sample\")\n",
    "sys.path.append(root)\n",
    "sys.path.append(src_path)\n",
    "sys.path.append(sample_path)\n",
    "\n",
    "import logging as log\n",
    "log.basicConfig(format='[%(levelname)s] %(message)s', level=log.DEBUG)\n",
    "\n",
    "from kyoka.algorithm.montecarlo.montecarlo import MonteCarlo\n",
    "from kyoka.algorithm.td_learning.sarsa import Sarsa\n",
    "from kyoka.algorithm.td_learning.q_learning import QLearning\n",
    "from kyoka.algorithm.td_learning.sarsa_lambda import SarsaLambda\n",
    "from kyoka.algorithm.td_learning.q_lambda import QLambda\n",
    "\n",
    "from kyoka.policy.epsilon_greedy_policy import EpsilonGreedyPolicy\n",
    "from kyoka.finish_rule.watch_iteration_count import WatchIterationCount\n",
    "\n",
    "from sample.maze.maze_domain import MazeDomain\n",
    "from sample.maze.maze_keras_value_function import MazeKerasValueFunction\n",
    "from sample.maze.maze_helper import MazeHelper\n",
    "from sample.maze.maze_performance_logger import MazePerformanceLogger\n",
    "from sample.maze.maze_transformer import MazeTransformer"
   ]
  },
  {
   "cell_type": "markdown",
   "metadata": {},
   "source": [
    "# Define Const for Performance Test"
   ]
  },
  {
   "cell_type": "markdown",
   "metadata": {},
   "source": [
    "# Setup Global Item for Performance Test"
   ]
  },
  {
   "cell_type": "code",
   "execution_count": 15,
   "metadata": {
    "collapsed": true
   },
   "outputs": [],
   "source": [
    "%matplotlib inline\n",
    "import seaborn\n",
    "import matplotlib.pyplot as plt\n",
    "\n",
    "maze_file_path = lambda maze_type: \"../script/%s.txt\" % maze_type\n",
    "transform_file_path = lambda maze_type: \"../script/%s_transformed.txt\" % maze_type\n",
    "\n",
    "def gen_callbacks(maze_type, transform_timing):\n",
    "    callbacks = [MazePerformanceLogger()]\n",
    "    if maze_type in [\"blocking\", \"shortcut\"]:\n",
    "        transfomer = MazeTransformer()\n",
    "        transfomer.set_transformation(transform_timing, transform_file_path(maze_type))\n",
    "        callbacks.append(transfomer)\n",
    "    return callbacks\n",
    "\n",
    "def run_performance_test(maze_type, rl_algo, epsilon, test_length, transform_timing):\n",
    "    watch_iteration = WatchIterationCount(target_count=test_length, log_interval=1000)\n",
    "    finish_rules = [watch_iteration]\n",
    "    domain = MazeDomain()\n",
    "    domain.read_maze(maze_file_path(maze_type))\n",
    "    value_func = MazeKerasValueFunction(domain)\n",
    "    value_func.setUp()\n",
    "    policy = EpsilonGreedyPolicy(domain, value_func, eps=epsilon)\n",
    "    callbacks = gen_callbacks(maze_type, transform_timing)\n",
    "    [rl_algo.set_gpi_callback(callback) for callback in callbacks]\n",
    "    rl_algo.GPI(domain, policy, value_func, finish_rules)\n",
    "    return callbacks[0].step_log, callbacks[0].policy_log\n",
    "\n",
    "def visualize_maze(maze_type):\n",
    "    domain = MazeDomain()\n",
    "    domain.read_maze(maze_file_path(maze_type))\n",
    "    print domain.get_maze_shape()\n",
    "    print MazeHelper.visualize_maze(domain.maze)\n",
    "\n",
    "def visualize_step_transition(step_log):\n",
    "    print \"minimum step => %d\" % min(step_log)\n",
    "    plt.plot(step_log, label=\"step\")\n",
    "    plt.xlabel(\"GPI iteration\")\n",
    "    plt.ylabel(\"step\")\n",
    "    plt.show()\n",
    "    \n",
    "def visualize_policy_transition(step_log, policy_log, sampling_interval):\n",
    "    sampled_log = [(item[0]+1, item[1]) for item in enumerate(policy_log) if (item[0]+1)%sampling_interval==0]\n",
    "    for iteration, log in sampled_log:\n",
    "        minimum_step = min(step_log[iteration-sampling_interval:iteration])\n",
    "        print \"After %d th iteration (minimum step => %d)\" % (iteration, minimum_step)\n",
    "        print log\n",
    "        print"
   ]
  },
  {
   "cell_type": "markdown",
   "metadata": {},
   "source": [
    "# DynaMaze"
   ]
  },
  {
   "cell_type": "code",
   "execution_count": 3,
   "metadata": {
    "collapsed": false
   },
   "outputs": [
    {
     "name": "stdout",
     "output_type": "stream",
     "text": [
      "(6, 9)\n",
      "-------XG\n",
      "--X----X-\n",
      "S-X----X-\n",
      "--X------\n",
      "-----X---\n",
      "---------\n"
     ]
    }
   ],
   "source": [
    "MAZE_TYPE = \"dyna\"\n",
    "TRANSFORM_TIMING = 0\n",
    "visualize_maze(MAZE_TYPE)"
   ]
  },
  {
   "cell_type": "markdown",
   "metadata": {},
   "source": [
    "## Sarsa"
   ]
  },
  {
   "cell_type": "code",
   "execution_count": 19,
   "metadata": {
    "collapsed": false
   },
   "outputs": [
    {
     "name": "stdout",
     "output_type": "stream",
     "text": [
      "minimum step => 14\n"
     ]
    },
    {
     "data": {
      "image/png": "[encoded data removed]",
      "text/plain": [
       "<matplotlib.figure.Figure at 0x10a699510>"
      ]
     },
     "metadata": {},
     "output_type": "display_data"
    },
    {
     "name": "stdout",
     "output_type": "stream",
     "text": [
      "After 20 th iteration (minimum step => 10000)\n",
      "v^<v<<v>G\n",
      "<<vvv>v>^\n",
      "^>->v>v>^\n",
      "v^^>>>>>^\n",
      "<<>>^^v>^\n",
      "^>v^>>v<^\n",
      "\n",
      "After 40 th iteration (minimum step => 10000)\n",
      "vv>^>^<>G\n",
      "<<v^v^v>^\n",
      "^<->vvv>^\n",
      "^<^>>>>>^\n",
      "^>>^^^^^^\n",
      ">>>^<>^>-\n",
      "\n",
      "After 60 th iteration (minimum step => 10000)\n",
      ">>>^<v<>G\n",
      ">^v^>v<>^\n",
      "v^->>vv>^\n",
      "<<^v>>>>^\n",
      "^>>v<>^^^\n",
      ">v>^>-^^^\n",
      "\n",
      "After 80 th iteration (minimum step => 10000)\n",
      ">^<<v>->G\n",
      "^^v>v<v>^\n",
      "vv-vv>>>^\n",
      "<<^<<>>>^\n",
      "^^v^^>^^^\n",
      ">>v<^<^>-\n",
      "\n",
      "After 100 th iteration (minimum step => 10000)\n",
      "v^>^>>->G\n",
      "<<v^vvv>^\n",
      "^v->>>v>^\n",
      "vv^v^>>>^\n",
      ">v>^<>>^^\n",
      ">^<^>->v<\n",
      "\n",
      "After 120 th iteration (minimum step => 10000)\n",
      "v>-v>^<>G\n",
      "v<v<<vv>^\n",
      "<<-^>vv>^\n",
      "^^^>>>>>^\n",
      "<>>^^><>^\n",
      "^<>>>>^>^\n",
      "\n",
      "After 140 th iteration (minimum step => 10000)\n",
      ">^<<v>v>G\n",
      ">^v>v>v>^\n",
      "<^-v^>v>^\n",
      "^v^<>>>>^\n",
      ">^>^v>^^^\n",
      ">^v>>-^^^\n",
      "\n",
      "After 160 th iteration (minimum step => 10000)\n",
      ">^>^vv->G\n",
      "<^v>>vv>^\n",
      "^v->>>v>^\n",
      ">>^>>>>>^\n",
      "v^vv^>>>^\n",
      "->v<<>^^^\n",
      "\n",
      "After 180 th iteration (minimum step => 14)\n",
      "v>>vvvv>G\n",
      "<<vvvvv>^\n",
      "^v->>vv>^\n",
      ">>^>>>>>^\n",
      "vv>>^>^>^\n",
      ">v>^^>^>^\n",
      "\n",
      "After 200 th iteration (minimum step => 14)\n",
      "-<>>vvv>G\n",
      "^vv>vvv>^\n",
      ">>->>>v>^\n",
      "<v^>>>>>^\n",
      "v>^^^>>>^\n",
      "-<^^^>^^^\n",
      "\n"
     ]
    }
   ],
   "source": [
    "TEST_LENGTH = 200\n",
    "EPSILON = 0.3\n",
    "step_log, policy_log = run_performance_test(\n",
    "    maze_type=MAZE_TYPE, rl_algo=Sarsa(alpha=0.1, gamma=0.7),\n",
    "    epsilon=EPSILON, test_length=TEST_LENGTH, transform_timing=TRANSFORM_TIMING)\n",
    "visualize_step_transition(step_log)\n",
    "visualize_policy_transition(step_log, policy_log, sampling_interval=20)"
   ]
  },
  {
   "cell_type": "code",
   "execution_count": 20,
   "metadata": {
    "collapsed": false
   },
   "outputs": [
    {
     "name": "stdout",
     "output_type": "stream",
     "text": [
      "minimum step => 10000\n"
     ]
    },
    {
     "data": {
      "image/png": "[encoded data removed]",
      "text/plain": [
       "<matplotlib.figure.Figure at 0x10a647bd0>"
      ]
     },
     "metadata": {},
     "output_type": "display_data"
    },
    {
     "name": "stdout",
     "output_type": "stream",
     "text": [
      "After 20 th iteration (minimum step => 10000)\n",
      "-v>>v^v>G\n",
      ">>v>^>>>^\n",
      ">^-vvv^>^\n",
      "v^^>v<>v^\n",
      "<>^<^v>><\n",
      "^>^<>>v^^\n",
      "\n",
      "After 40 th iteration (minimum step => 10000)\n",
      "-<>^<>->G\n",
      "^>v^>>v>^\n",
      "^^->v>v>^\n",
      ">>^>>>>>^\n",
      "vv>>^^>^^\n",
      ">v<^v<>^<\n",
      "\n",
      "After 60 th iteration (minimum step => 10000)\n",
      "vv>>^<v>G\n",
      "<<v>v>v>^\n",
      "^<-vv<v>^\n",
      "^v^><<>>^\n",
      "v<v^^^>^^\n",
      "->v<<>>^^\n",
      "\n",
      "After 80 th iteration (minimum step => 10000)\n",
      "v^>^vv->G\n",
      "<vv>><<>^\n",
      ">>-v^^v>^\n",
      "^v^<<>>>^\n",
      ">v<^v^^>^\n",
      ">^<>v<v>^\n",
      "\n",
      "After 100 th iteration (minimum step => 10000)\n",
      ">^<v>^<>G\n",
      "v^v><^v>^\n",
      "<<-^^vv>^\n",
      "^^^>>>>>^\n",
      "v>v<^^v>^\n",
      "->v<^>v<^\n",
      "\n",
      "After 120 th iteration (minimum step => 10000)\n",
      "->-<>^<>G\n",
      "^<v>vvv>^\n",
      "^v->>v<>^\n",
      ">v^<>^>>^\n",
      ">>v^>>>>^\n",
      "->v<^>>^^\n",
      "\n",
      "After 140 th iteration (minimum step => 10000)\n",
      "-v-<^>->G\n",
      ">>v<>v^>^\n",
      ">^-^>vv>^\n",
      "^^^v>>>>^\n",
      ">v>vv>>^^\n",
      ">v>>>>>v^\n",
      "\n",
      "After 160 th iteration (minimum step => 10000)\n",
      "-<>^>^<>G\n",
      "^^v^>v>>^\n",
      "<<->>^<>^\n",
      "^<^>^^>>^\n",
      "v>^v^>>>^\n",
      "-<>v<>^>-\n",
      "\n",
      "After 180 th iteration (minimum step => 10000)\n",
      "v<-v>>->G\n",
      "<<v<<vv>^\n",
      "^v-^>vv>^\n",
      ">>^>>>>>^\n",
      "^^vv^>>^^\n",
      "^>v<>>>^^\n",
      "\n",
      "After 200 th iteration (minimum step => 10000)\n",
      ">v<vv>->G\n",
      ">>v<vvv>^\n",
      ">^->>vv>^\n",
      "^v^>>>>>^\n",
      ">v<>v^>>^\n",
      ">v<>>>>^^\n",
      "\n"
     ]
    }
   ],
   "source": [
    "TEST_LENGTH = 200\n",
    "EPSILON = 0.7\n",
    "step_log, policy_log = run_performance_test(\n",
    "    maze_type=MAZE_TYPE, rl_algo=Sarsa(alpha=0.1, gamma=0.7),\n",
    "    epsilon=EPSILON, test_length=TEST_LENGTH, transform_timing=TRANSFORM_TIMING)\n",
    "visualize_step_transition(step_log)\n",
    "visualize_policy_transition(step_log, policy_log, sampling_interval=20)"
   ]
  },
  {
   "cell_type": "markdown",
   "metadata": {},
   "source": [
    "# QLearning"
   ]
  },
  {
   "cell_type": "code",
   "execution_count": 21,
   "metadata": {
    "collapsed": false
   },
   "outputs": [
    {
     "name": "stdout",
     "output_type": "stream",
     "text": [
      "minimum step => 14\n"
     ]
    },
    {
     "data": {
      "image/png": "[encoded data removed]",
      "text/plain": [
       "<matplotlib.figure.Figure at 0x10b279ad0>"
      ]
     },
     "metadata": {},
     "output_type": "display_data"
    },
    {
     "name": "stdout",
     "output_type": "stream",
     "text": [
      "After 20 th iteration (minimum step => 10000)\n",
      "v>-<^<v>G\n",
      ">>^<<vv>^\n",
      "<^-^<>v>^\n",
      "^v^^^>>>^\n",
      "vvv^vv^>^\n",
      "->v<v<>v^\n",
      "\n",
      "After 40 th iteration (minimum step => 10000)\n",
      ">^>vv<v>G\n",
      "v^>>v<v>^\n",
      "v<-v^vv>^\n",
      "<<^>>>>>^\n",
      "^<>>>v>>^\n",
      "^v>^>-<^^\n",
      "\n",
      "After 60 th iteration (minimum step => 14)\n",
      ">v>^<>->G\n",
      ">>v^vv^>^\n",
      "v^->>vv>^\n",
      "<v^>>>>>^\n",
      "v>>>^^^>^\n",
      "-<^^^<^>^\n",
      "\n",
      "After 80 th iteration (minimum step => 14)\n",
      ">^<<>>->G\n",
      ">^vv>vv>^\n",
      "^^->vvv>^\n",
      ">v^>>>>>^\n",
      ">>>>^>^>^\n",
      "^^^>^>^>^\n",
      "\n",
      "After 100 th iteration (minimum step => 14)\n",
      "-<>vv^<>G\n",
      "^<>>vvv>^\n",
      "v<-v>>v>^\n",
      "vv^>>>>>^\n",
      "<>^^^^^^^\n",
      "^>^^^>^>^\n",
      "\n",
      "After 120 th iteration (minimum step => 14)\n",
      ">>-<vv<>G\n",
      "^vvv>vv>^\n",
      ">>-v>vv>^\n",
      "v^^>>>>>^\n",
      "v>>^^^^^^\n",
      "-<^>>-^>^\n",
      "\n",
      "After 140 th iteration (minimum step => 14)\n",
      "-<>^>v<>G\n",
      "v^v>>vv>^\n",
      "<<-vv>v>^\n",
      "^v^>>>>>^\n",
      ">>>^^>^>^\n",
      "->>>v>^>^\n",
      "\n",
      "After 160 th iteration (minimum step => 14)\n",
      "vv>^>^<>G\n",
      ">>v>>vv>^\n",
      "v^-<>>v>^\n",
      "<<^>>>>>^\n",
      "^>><^^>^^\n",
      "^^^^<>>^^\n",
      "\n",
      "After 180 th iteration (minimum step => 14)\n",
      ">>>v>^<>G\n",
      "<^v>vvv>^\n",
      "^^-v>>v>^\n",
      "vv^>>>>>^\n",
      ">>>>>>v^^\n",
      "^>>v^>v<^\n",
      "\n",
      "After 200 th iteration (minimum step => 14)\n",
      ">>->v>->G\n",
      "v^vvvvv>^\n",
      "vv->>vv>^\n",
      ">v^>>>>>^\n",
      ">>^>^v>>^\n",
      ">v^^>-<^^\n",
      "\n"
     ]
    }
   ],
   "source": [
    "TEST_LENGTH = 200\n",
    "EPSILON = 0.3\n",
    "step_log, policy_log = run_performance_test(\n",
    "    maze_type=MAZE_TYPE, rl_algo=QLearning(alpha=0.1, gamma=0.7),\n",
    "    epsilon=EPSILON, test_length=TEST_LENGTH, transform_timing=TRANSFORM_TIMING)\n",
    "visualize_step_transition(step_log)\n",
    "visualize_policy_transition(step_log, policy_log, sampling_interval=20)"
   ]
  },
  {
   "cell_type": "code",
   "execution_count": 22,
   "metadata": {
    "collapsed": false
   },
   "outputs": [
    {
     "name": "stdout",
     "output_type": "stream",
     "text": [
      "minimum step => 14\n"
     ]
    },
    {
     "data": {
      "image/png": "[encoded data removed]",
      "text/plain": [
       "<matplotlib.figure.Figure at 0x1073d87d0>"
      ]
     },
     "metadata": {},
     "output_type": "display_data"
    },
    {
     "name": "stdout",
     "output_type": "stream",
     "text": [
      "After 20 th iteration (minimum step => 10000)\n",
      ">^<>^<v>G\n",
      "<^v>^<>>^\n",
      "^^-<^vv>^\n",
      "vv^^>v>>^\n",
      ">><<>^>^^\n",
      "-^v<>>>>^\n",
      "\n",
      "After 40 th iteration (minimum step => 10000)\n",
      "vv>^v>v>G\n",
      ">>vv>>v>^\n",
      "<^-<<>v>^\n",
      "^<^^>>>>^\n",
      "v<>v^>>>>\n",
      "-<>v<>^^^\n",
      "\n",
      "After 60 th iteration (minimum step => 10000)\n",
      ">^>v>vv>G\n",
      "<^v<>vv>^\n",
      "^<-v>>v>^\n",
      "vv^<>>>>^\n",
      "<>>>>>>>^\n",
      "^>>v^>^^^\n",
      "\n",
      "After 80 th iteration (minimum step => 14)\n",
      "-v>v>^v>G\n",
      "vvv<<vv>^\n",
      "<v-^>>v>^\n",
      ">>^^>>>>^\n",
      "^^>^^>^>^\n",
      ">>>>>>^>^\n",
      "\n",
      "After 100 th iteration (minimum step => 10000)\n",
      ">v<vvvv>G\n",
      "vvv>vvv>^\n",
      "<<->>>v>^\n",
      "^v^<>>>>^\n",
      ">v>^v>^>^\n",
      ">>v>v>>v^\n",
      "\n",
      "After 120 th iteration (minimum step => 14)\n",
      "v>-<>>v>G\n",
      "<<v>>vv>^\n",
      "^>->>>v>^\n",
      "vv^>>>>>^\n",
      "v>v^^>^>^\n",
      "->>>>>^>^\n",
      "\n",
      "After 140 th iteration (minimum step => 14)\n",
      ">>>>vvv>G\n",
      "^^vvv>v>^\n",
      ">v->vvv>^\n",
      ">v^>>>>>^\n",
      ">>>^^^>^^\n",
      ">^^^>>>>^\n",
      "\n",
      "After 160 th iteration (minimum step => 14)\n",
      "v>>>^>v>G\n",
      "<<v^>vv>^\n",
      "^v->>>v>^\n",
      "<<^>>>>>^\n",
      "^v>>^>>>^\n",
      ">v>^>>^^^\n",
      "\n",
      "After 180 th iteration (minimum step => 14)\n",
      ">^<v>^v>G\n",
      ">^v>>vv>^\n",
      ">v-v>>v>^\n",
      "vv^>>>>>^\n",
      ">v>^vv^^^\n",
      ">v<>>-<^^\n",
      "\n",
      "After 200 th iteration (minimum step => 14)\n",
      "->-vv<v>G\n",
      "^vv>vvv>^\n",
      "vv-v>>v>^\n",
      ">v^>>>>>^\n",
      ">>>>^>^>^\n",
      "^^>^^>^>^\n",
      "\n"
     ]
    }
   ],
   "source": [
    "TEST_LENGTH = 200\n",
    "EPSILON = 0.7\n",
    "step_log, policy_log = run_performance_test(\n",
    "    maze_type=MAZE_TYPE, rl_algo=QLearning(alpha=0.1, gamma=0.7),\n",
    "    epsilon=EPSILON, test_length=TEST_LENGTH, transform_timing=TRANSFORM_TIMING)\n",
    "visualize_step_transition(step_log)\n",
    "visualize_policy_transition(step_log, policy_log, sampling_interval=20)"
   ]
  },
  {
   "cell_type": "markdown",
   "metadata": {},
   "source": [
    "# SarsaLambda"
   ]
  },
  {
   "cell_type": "code",
   "execution_count": 26,
   "metadata": {
    "collapsed": false
   },
   "outputs": [],
   "source": [
    "TEST_LENGTH = 200\n",
    "EPSILON = 0.3\n",
    "step_log, policy_log = run_performance_test(\n",
    "    maze_type=MAZE_TYPE, rl_algo=SarsaLambda(alpha=0.1, gamma=0.9),\n",
    "    epsilon=EPSILON, test_length=TEST_LENGTH, transform_timing=TRANSFORM_TIMING)\n",
    "visualize_step_transition(step_log)\n",
    "visualize_policy_transition(step_log, policy_log, sampling_interval=20)"
   ]
  },
  {
   "cell_type": "code",
   "execution_count": null,
   "metadata": {
    "collapsed": false
   },
   "outputs": [],
   "source": [
    "TEST_LENGTH = 200\n",
    "EPSILON = 0.7\n",
    "step_log, policy_log = run_performance_test(\n",
    "    maze_type=MAZE_TYPE, rl_algo=SarsaLambda(alpha=0.1, gamma=0.7),\n",
    "    epsilon=EPSILON, test_length=TEST_LENGTH, transform_timing=TRANSFORM_TIMING)\n",
    "visualize_step_transition(step_log)\n",
    "visualize_policy_transition(step_log, policy_log, sampling_interval=20)"
   ]
  },
  {
   "cell_type": "markdown",
   "metadata": {},
   "source": [
    "# QLambda"
   ]
  },
  {
   "cell_type": "code",
   "execution_count": 24,
   "metadata": {
    "collapsed": false
   },
   "outputs": [
    {
     "name": "stdout",
     "output_type": "stream",
     "text": [
      "minimum step => 14\n"
     ]
    },
    {
     "data": {
      "image/png": "[encoded data removed]",
      "text/plain": [
       "<matplotlib.figure.Figure at 0x10aec53d0>"
      ]
     },
     "metadata": {},
     "output_type": "display_data"
    },
    {
     "name": "stdout",
     "output_type": "stream",
     "text": [
      "After 20 th iteration (minimum step => 10000)\n",
      "-<>>>vv>G\n",
      "^vv>>vv>^\n",
      "vv->vvv>^\n",
      ">v^>>>>>^\n",
      ">>^>^>^>^\n",
      ">^^^^>^>^\n",
      "\n",
      "After 40 th iteration (minimum step => 14)\n",
      ">>>vvvv>G\n",
      "^^vvvvv>^\n",
      "^^->>vv>^\n",
      "vv^>>>>>^\n",
      ">>>^^^^>^\n",
      "^>^^>>>>^\n",
      "\n",
      "After 60 th iteration (minimum step => 14)\n",
      ">v>>vvv>G\n",
      ">vvv>vv>^\n",
      ">>->>>v>^\n",
      ">^^>>>>>^\n",
      "v>>^^>^^^\n",
      "->>v<>^>^\n",
      "\n",
      "After 80 th iteration (minimum step => 14)\n",
      ">^>v>v->G\n",
      "^^v<<vv>^\n",
      "<v-v>vv>^\n",
      ">v^>>>>>^\n",
      ">>>^^>>^^\n",
      "^^^^>>^^^\n",
      "\n",
      "After 100 th iteration (minimum step => 14)\n",
      ">^>^>>v>G\n",
      "v^vvv>v>^\n",
      "vv->vvv>^\n",
      ">v^>>>>>^\n",
      ">>>>^>>^^\n",
      ">>>^^>^^^\n",
      "\n",
      "After 120 th iteration (minimum step => 14)\n",
      ">^>^<vv>G\n",
      "^^vv>vv>^\n",
      "vv->>>v>^\n",
      "<v^>>>>>^\n",
      ">>>>^^^>^\n",
      ">>^^^>^^^\n",
      "\n",
      "After 140 th iteration (minimum step => 14)\n",
      "-<>vv>v>G\n",
      "^^v>>>>>^\n",
      ">v-vv>v>^\n",
      ">v^>>>>>^\n",
      ">>>^^>>^^\n",
      ">v^^^>^>-\n",
      "\n",
      "After 160 th iteration (minimum step => 14)\n",
      ">>>v>>->G\n",
      "^^v>>vv>^\n",
      ">v-vv>v>^\n",
      ">>^>>>>>^\n",
      "<^>^^^^>^\n",
      "^>v>^>^>^\n",
      "\n",
      "After 180 th iteration (minimum step => 14)\n",
      "->-vvvv>G\n",
      "vvv>>vv>^\n",
      "<<->>vv>^\n",
      "^<^>>>>>^\n",
      "^>>>^^^^^\n",
      ">v^>^>^>^\n",
      "\n",
      "After 200 th iteration (minimum step => 14)\n",
      ">v>>vvv>G\n",
      ">>v>>vv>^\n",
      "<^->>>v>^\n",
      "^^^<>>>>^\n",
      "v>>^>>^>^\n",
      "->>>^>^>^\n",
      "\n"
     ]
    }
   ],
   "source": [
    "TEST_LENGTH = 200\n",
    "EPSILON = 0.3\n",
    "step_log, policy_log = run_performance_test(\n",
    "    maze_type=MAZE_TYPE, rl_algo=QLambda(alpha=0.1, gamma=0.7),\n",
    "    epsilon=EPSILON, test_length=TEST_LENGTH, transform_timing=TRANSFORM_TIMING)\n",
    "visualize_step_transition(step_log)\n",
    "visualize_policy_transition(step_log, policy_log, sampling_interval=20)"
   ]
  },
  {
   "cell_type": "code",
   "execution_count": 25,
   "metadata": {
    "collapsed": false
   },
   "outputs": [
    {
     "name": "stdout",
     "output_type": "stream",
     "text": [
      "minimum step => 14\n"
     ]
    },
    {
     "data": {
      "image/png": "[encoded data removed]",
      "text/plain": [
       "<matplotlib.figure.Figure at 0x10ac55a10>"
      ]
     },
     "metadata": {},
     "output_type": "display_data"
    },
    {
     "name": "stdout",
     "output_type": "stream",
     "text": [
      "After 20 th iteration (minimum step => 10000)\n",
      "v>-v>^v>G\n",
      ">>vvv>v>^\n",
      "^^->v>v>^\n",
      ">>^>>>>>^\n",
      "^>>v^>>>^\n",
      "-^>>>>^^^\n",
      "\n",
      "After 40 th iteration (minimum step => 10000)\n",
      ">>>>vvv>G\n",
      "v^v>>>v>^\n",
      "<<->vvv>^\n",
      "^^^>>>>>^\n",
      "v^v>^^^^^\n",
      "-<v>^>^^^\n",
      "\n",
      "After 60 th iteration (minimum step => 14)\n",
      ">^>^>>v>G\n",
      "^^vvvvv>^\n",
      "^v->>>v>^\n",
      "vv^v>>>>^\n",
      ">>>>>>>>^\n",
      "-^^^^>>^^\n",
      "\n",
      "After 80 th iteration (minimum step => 10000)\n",
      "vv>v>vv>G\n",
      "<<vv>vv>^\n",
      "^<-vvvv>^\n",
      "vv^>>>>>^\n",
      ">>^^^>>^^\n",
      ">>^^^>v>^\n",
      "\n",
      "After 100 th iteration (minimum step => 14)\n",
      "vv>vv>->G\n",
      ">>v>v>^>^\n",
      "<^->v>v>^\n",
      ">v^>>>>>^\n",
      ">v>>^^>>^\n",
      ">^>^^>>^^\n",
      "\n",
      "After 120 th iteration (minimum step => 16)\n",
      ">>>v>>v>G\n",
      "^^v<vvv>^\n",
      "<v-v>>v>^\n",
      "vv^>>>>>^\n",
      ">>>>^>^^^\n",
      ">>>>>-^^^\n",
      "\n",
      "After 140 th iteration (minimum step => 14)\n",
      "v>>>>vv>G\n",
      "<<v>>vv>^\n",
      "^^->v>v>^\n",
      ">v^>>>>>^\n",
      ">>>>^^^>^\n",
      ">>>v^>>>^\n",
      "\n",
      "After 160 th iteration (minimum step => 14)\n",
      ">>-v>vv>G\n",
      ">^v>>vv>^\n",
      ">v->>vv>^\n",
      ">v^>>>>>^\n",
      ">>>>^^^^^\n",
      "^>^>>>^^^\n",
      "\n",
      "After 180 th iteration (minimum step => 14)\n",
      ">>>v>>v>G\n",
      "<^v>vvv>^\n",
      "vv->>vv>^\n",
      ">v^>>>>>^\n",
      ">>>^^>>>^\n",
      ">>>v>>^^^\n",
      "\n",
      "After 200 th iteration (minimum step => 14)\n",
      ">>>vvvv>G\n",
      "^^vvvvv>^\n",
      ">>-vvvv>^\n",
      "^v^>>>>>^\n",
      ">>>^^>^>^\n",
      "^>>>>>^>^\n",
      "\n"
     ]
    }
   ],
   "source": [
    "TEST_LENGTH = 200\n",
    "EPSILON = 0.7\n",
    "step_log, policy_log = run_performance_test(\n",
    "    maze_type=MAZE_TYPE, rl_algo=QLambda(alpha=0.1, gamma=0.7),\n",
    "    epsilon=EPSILON, test_length=TEST_LENGTH, transform_timing=TRANSFORM_TIMING)\n",
    "visualize_step_transition(step_log)\n",
    "visualize_policy_transition(step_log, policy_log, sampling_interval=20)"
   ]
  }
 ],
 "metadata": {
  "kernelspec": {
   "display_name": "Python 2",
   "language": "python",
   "name": "python2"
  },
  "language_info": {
   "codemirror_mode": {
    "name": "ipython",
    "version": 2
   },
   "file_extension": ".py",
   "mimetype": "text/x-python",
   "name": "python",
   "nbconvert_exporter": "python",
   "pygments_lexer": "ipython2",
   "version": "2.7.11"
  }
 },
 "nbformat": 4,
 "nbformat_minor": 0
}
