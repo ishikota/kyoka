{
 "cells": [
  {
   "cell_type": "markdown",
   "metadata": {},
   "source": [
    "# Path Configuration"
   ]
  },
  {
   "cell_type": "code",
   "execution_count": 1,
   "metadata": {
    "collapsed": false
   },
   "outputs": [],
   "source": [
    "import os\n",
    "import sys\n",
    "import argparse\n",
    "\n",
    "root = \"../\"*3\n",
    "src_path = os.path.join(root, \"kyoka\")\n",
    "sample_path = os.path.join(root, \"sample\")\n",
    "sys.path.append(root)\n",
    "sys.path.append(src_path)\n",
    "sys.path.append(sample_path)\n",
    "\n",
    "import logging as log\n",
    "log.basicConfig(format='[%(levelname)s] %(message)s', level=log.DEBUG)\n",
    "\n",
    "from kyoka.algorithm.montecarlo.montecarlo import MonteCarlo\n",
    "from kyoka.algorithm.td_learning.sarsa import Sarsa\n",
    "from kyoka.algorithm.td_learning.q_learning import QLearning\n",
    "from kyoka.algorithm.td_learning.sarsa_lambda import SarsaLambda\n",
    "from kyoka.algorithm.td_learning.q_lambda import QLambda\n",
    "\n",
    "from kyoka.policy.epsilon_greedy_policy import EpsilonGreedyPolicy\n",
    "from kyoka.finish_rule.watch_iteration_count import WatchIterationCount\n",
    "\n",
    "from sample.maze.maze_domain import MazeDomain\n",
    "from sample.maze.maze_table_value_function import MazeTableValueFunction\n",
    "from sample.maze.maze_helper import MazeHelper\n",
    "from sample.maze.maze_performance_logger import MazePerformanceLogger\n",
    "from sample.maze.maze_transformer import MazeTransformer"
   ]
  },
  {
   "cell_type": "markdown",
   "metadata": {},
   "source": [
    "# Define Const for Performance Test"
   ]
  },
  {
   "cell_type": "markdown",
   "metadata": {},
   "source": [
    "# Setup Global Item for Performance Test"
   ]
  },
  {
   "cell_type": "code",
   "execution_count": 89,
   "metadata": {
    "collapsed": true
   },
   "outputs": [],
   "source": [
    "%matplotlib inline\n",
    "import seaborn\n",
    "import matplotlib.pyplot as plt\n",
    "\n",
    "maze_file_path = lambda maze_type: \"../script/%s.txt\" % maze_type\n",
    "transform_file_path = lambda maze_type: \"../script/%s_transformed.txt\" % maze_type\n",
    "\n",
    "def gen_callbacks(maze_type, transform_timing):\n",
    "    callbacks = [MazePerformanceLogger()]\n",
    "    if maze_type in [\"blocking\", \"shortcut\"]:\n",
    "        transfomer = MazeTransformer()\n",
    "        transfomer.set_transformation(transform_timing, transform_file_path(maze_type))\n",
    "        callbacks.append(transfomer)\n",
    "    return callbacks\n",
    "\n",
    "def run_performance_test(maze_type, rl_algo, epsilon, test_length, transform_timing):\n",
    "    watch_iteration = WatchIterationCount(target_count=test_length, log_interval=1000)\n",
    "    finish_rules = [watch_iteration]\n",
    "    domain = MazeDomain()\n",
    "    domain.read_maze(maze_file_path(maze_type))\n",
    "    value_func = MazeTableValueFunction(domain.get_maze_shape())\n",
    "    value_func.setUp()\n",
    "    policy = EpsilonGreedyPolicy(domain, value_func, eps=epsilon)\n",
    "    callbacks = gen_callbacks(maze_type, transform_timing)\n",
    "    [rl_algo.set_gpi_callback(callback) for callback in callbacks]\n",
    "    rl_algo.GPI(domain, policy, value_func, finish_rules)\n",
    "    return callbacks[0].step_log, callbacks[0].policy_log\n",
    "\n",
    "def visualize_maze(maze_type):\n",
    "    domain = MazeDomain()\n",
    "    domain.read_maze(maze_file_path(maze_type))\n",
    "    print domain.get_maze_shape()\n",
    "    print MazeHelper.visualize_maze(domain.maze)\n",
    "\n",
    "def visualize_step_transition(step_log):\n",
    "    print \"minimum step => %d\" % min(step_log)\n",
    "    plt.plot(step_log, label=\"step\")\n",
    "    plt.xlabel(\"GPI iteration\")\n",
    "    plt.ylabel(\"step\")\n",
    "    plt.show()\n",
    "    \n",
    "def visualize_policy_transition(step_log, policy_log, sampling_interval):\n",
    "    sampled_log = [(item[0]+1, item[1]) for item in enumerate(policy_log) if (item[0]+1)%sampling_interval==0]\n",
    "    for iteration, log in sampled_log:\n",
    "        minimum_step = min(step_log[:iteration])\n",
    "        print \"After %d th iteration (minimum step => %d)\" % (iteration, minimum_step)\n",
    "        print log\n",
    "        print"
   ]
  },
  {
   "cell_type": "markdown",
   "metadata": {},
   "source": [
    "# DynaMaze"
   ]
  },
  {
   "cell_type": "code",
   "execution_count": 59,
   "metadata": {
    "collapsed": false
   },
   "outputs": [
    {
     "name": "stdout",
     "output_type": "stream",
     "text": [
      "(6, 9)\n",
      "-------XG\n",
      "--X----X-\n",
      "S-X----X-\n",
      "--X------\n",
      "-----X---\n",
      "---------\n"
     ]
    }
   ],
   "source": [
    "MAZE_TYPE = \"dyna\"\n",
    "TRANSFORM_TIMING = 0\n",
    "visualize_maze(MAZE_TYPE)"
   ]
  },
  {
   "cell_type": "markdown",
   "metadata": {},
   "source": [
    "## Sarsa"
   ]
  },
  {
   "cell_type": "code",
   "execution_count": 93,
   "metadata": {
    "collapsed": false
   },
   "outputs": [
    {
     "name": "stdout",
     "output_type": "stream",
     "text": [
      "minimum step => 16\n"
     ]
    },
    {
     "data": {
      "image/png": "[encoded data removed]",
      "text/plain": [
       "<matplotlib.figure.Figure at 0x1071f3890>"
      ]
     },
     "metadata": {},
     "output_type": "display_data"
    },
    {
     "name": "stdout",
     "output_type": "stream",
     "text": [
      "After 5 th iteration (minimum step => 133)\n",
      "--------G\n",
      "--------^\n",
      "--------^\n",
      "--------^\n",
      "--------^\n",
      "---------\n",
      "\n",
      "After 10 th iteration (minimum step => 36)\n",
      "--------G\n",
      "--------^\n",
      "--------^\n",
      "----->v-^\n",
      "------>>^\n",
      "------^--\n",
      "\n",
      "After 15 th iteration (minimum step => 20)\n",
      "--------G\n",
      "--------^\n",
      "----v-v-^\n",
      "--->>>v-^\n",
      "---^-->>^\n",
      "------^--\n",
      "\n",
      "After 20 th iteration (minimum step => 20)\n",
      "--------G\n",
      "------v-^\n",
      "----v-v-^\n",
      "-v->>>v-^\n",
      ">>>^-->>^\n",
      "------^--\n",
      "\n",
      "After 25 th iteration (minimum step => 16)\n",
      "--------G\n",
      "------v-^\n",
      "vv--v-v-^\n",
      ">v->>>v-^\n",
      ">>>^-->>^\n",
      "------^--\n",
      "\n",
      "After 30 th iteration (minimum step => 16)\n",
      "--------G\n",
      "------v-^\n",
      "vv--v-v-^\n",
      ">v->>>v-^\n",
      ">>>^-->>^\n",
      "------^--\n",
      "\n",
      "After 35 th iteration (minimum step => 16)\n",
      "--------G\n",
      "------v-^\n",
      "vv--vvv-^\n",
      ">v->>>v-^\n",
      ">>>^<->>^\n",
      "-^--->^-^\n",
      "\n",
      "After 40 th iteration (minimum step => 16)\n",
      "--------G\n",
      "------v-^\n",
      "vv--vvv-^\n",
      ">v->>>vv^\n",
      ">>>^<->>^\n",
      "-^--->^-^\n",
      "\n",
      "After 45 th iteration (minimum step => 16)\n",
      "--------G\n",
      "------v-^\n",
      "vv--vvv-^\n",
      ">v->>>vv^\n",
      ">>>^<->>^\n",
      "-^--->^-^\n",
      "\n",
      "After 50 th iteration (minimum step => 16)\n",
      "--------G\n",
      "------v-^\n",
      "vv--vvv-^\n",
      ">v->>>vv^\n",
      ">>>^<->>^\n",
      "-^--->^-^\n",
      "\n"
     ]
    }
   ],
   "source": [
    "TEST_LENGTH = 50\n",
    "EPSILON = 0.1\n",
    "step_log, policy_log = run_performance_test(\n",
    "    maze_type=MAZE_TYPE, rl_algo=Sarsa(alpha=0.1, gamma=0.7),\n",
    "    epsilon=EPSILON, test_length=TEST_LENGTH, transform_timing=TRANSFORM_TIMING)\n",
    "visualize_step_transition(step_log)\n",
    "visualize_policy_transition(step_log, policy_log, sampling_interval=5)"
   ]
  },
  {
   "cell_type": "code",
   "execution_count": 94,
   "metadata": {
    "collapsed": false
   },
   "outputs": [
    {
     "name": "stdout",
     "output_type": "stream",
     "text": [
      "minimum step => 16\n"
     ]
    },
    {
     "data": {
      "image/png": "[encoded data removed]",
      "text/plain": [
       "<matplotlib.figure.Figure at 0x106987ad0>"
      ]
     },
     "metadata": {},
     "output_type": "display_data"
    },
    {
     "name": "stdout",
     "output_type": "stream",
     "text": [
      "After 5 th iteration (minimum step => 103)\n",
      "--------G\n",
      "--------^\n",
      "--------^\n",
      "--------^\n",
      "------->^\n",
      "---------\n",
      "\n",
      "After 10 th iteration (minimum step => 37)\n",
      "--------G\n",
      "--------^\n",
      "--------^\n",
      "------v-^\n",
      "------>>^\n",
      "----->^^-\n",
      "\n",
      "After 15 th iteration (minimum step => 37)\n",
      "--------G\n",
      "--------^\n",
      "----->v-^\n",
      "----->v>^\n",
      "------>>^\n",
      "---->>^^-\n",
      "\n",
      "After 20 th iteration (minimum step => 37)\n",
      "--------G\n",
      "--------^\n",
      "----->v-^\n",
      "---->>v>^\n",
      "-->>v->>^\n",
      "---^>>^^<\n",
      "\n",
      "After 25 th iteration (minimum step => 20)\n",
      "--------G\n",
      "--------^\n",
      "-v--->v-^\n",
      "-v-v>>v>^\n",
      "->>>v->>^\n",
      "-^^^>>^^<\n",
      "\n",
      "After 30 th iteration (minimum step => 16)\n",
      "--------G\n",
      "--------^\n",
      ">v--->v-^\n",
      "vv-v>>>>^\n",
      ">>>>v->>^\n",
      "-^^^>>^^<\n",
      "\n",
      "After 35 th iteration (minimum step => 16)\n",
      "--------G\n",
      "--------^\n",
      ">v--->v-^\n",
      "vv-v>>>>^\n",
      ">>>>v->>^\n",
      "^^^^>>^^<\n",
      "\n",
      "After 40 th iteration (minimum step => 16)\n",
      "--------G\n",
      "--------^\n",
      ">v--->v-^\n",
      "vv-v>>>>^\n",
      ">>>>v->>^\n",
      "^^^^>>^^<\n",
      "\n",
      "After 45 th iteration (minimum step => 16)\n",
      "--------G\n",
      "--------^\n",
      ">v--->v-^\n",
      "vv-v>>>>^\n",
      ">>>>v->>^\n",
      "^^^^>>^^<\n",
      "\n",
      "After 50 th iteration (minimum step => 16)\n",
      "--------G\n",
      "v-------^\n",
      ">v-->>v-^\n",
      "vv-v>>>>^\n",
      ">>>>v->>^\n",
      "^^^^>>^^<\n",
      "\n"
     ]
    }
   ],
   "source": [
    "TEST_LENGTH = 50\n",
    "EPSILON = 0.3\n",
    "step_log, policy_log = run_performance_test(\n",
    "    maze_type=MAZE_TYPE, rl_algo=Sarsa(alpha=0.1, gamma=0.7),\n",
    "    epsilon=EPSILON, test_length=TEST_LENGTH, transform_timing=TRANSFORM_TIMING)\n",
    "visualize_step_transition(step_log)\n",
    "visualize_policy_transition(step_log, policy_log, sampling_interval=5)"
   ]
  },
  {
   "cell_type": "code",
   "execution_count": 95,
   "metadata": {
    "collapsed": false
   },
   "outputs": [
    {
     "name": "stdout",
     "output_type": "stream",
     "text": [
      "minimum step => 14\n"
     ]
    },
    {
     "data": {
      "image/png": "[encoded data removed]",
      "text/plain": [
       "<matplotlib.figure.Figure at 0x107168090>"
      ]
     },
     "metadata": {},
     "output_type": "display_data"
    },
    {
     "name": "stdout",
     "output_type": "stream",
     "text": [
      "After 5 th iteration (minimum step => 57)\n",
      "--------G\n",
      "--------^\n",
      "--------^\n",
      "--------^\n",
      "--------^\n",
      "---------\n",
      "\n",
      "After 10 th iteration (minimum step => 57)\n",
      "--------G\n",
      "--------^\n",
      "--------^\n",
      "-------v^\n",
      "------>>^\n",
      "------^^^\n",
      "\n",
      "After 15 th iteration (minimum step => 41)\n",
      "--------G\n",
      "--------^\n",
      "----->v-^\n",
      "---->>>>^\n",
      "------>>^\n",
      "----->^^^\n",
      "\n",
      "After 20 th iteration (minimum step => 25)\n",
      "--------G\n",
      "----v-v-^\n",
      "--->>vv-^\n",
      "---->>>>^\n",
      "--->^->>^\n",
      ">>>>^>^^^\n",
      "\n",
      "After 25 th iteration (minimum step => 16)\n",
      "--------G\n",
      "----v-v-^\n",
      "v-->>>v-^\n",
      "vv->>>>>^\n",
      "v<>>^-^>^\n",
      ">>>>^>>>^\n",
      "\n",
      "After 30 th iteration (minimum step => 14)\n",
      "--------G\n",
      ">v--v-v-^\n",
      "v<->>>v-^\n",
      ">v->>>>>^\n",
      "v>>>^-^>^\n",
      ">>>>^>^>^\n",
      "\n",
      "After 35 th iteration (minimum step => 14)\n",
      "--------G\n",
      ">v--vvv-^\n",
      "vv->>>v-^\n",
      ">v->>>>>^\n",
      "v>>>^-^>^\n",
      ">>>>^>^>^\n",
      "\n",
      "After 40 th iteration (minimum step => 14)\n",
      "v<--v-v-G\n",
      ">v--vvv-^\n",
      "vv-vvvv-^\n",
      ">v->>>>>^\n",
      "vv>>^-^>^\n",
      ">>>>^>^>^\n",
      "\n",
      "After 45 th iteration (minimum step => 14)\n",
      "v<--vvv-G\n",
      ">v--vvv-^\n",
      ">v-vvvv-^\n",
      ">v->>>>>^\n",
      ">>>>^-^>^\n",
      ">>^>^>^>^\n",
      "\n",
      "After 50 th iteration (minimum step => 14)\n",
      "v<--vvv-G\n",
      "v<-vvvv-^\n",
      "vv-vvvv-^\n",
      ">v->>>>>^\n",
      ">>>>^-^>^\n",
      "^>^^^>^>^\n",
      "\n"
     ]
    }
   ],
   "source": [
    "TEST_LENGTH = 50\n",
    "EPSILON = 0.7\n",
    "step_log, policy_log = run_performance_test(\n",
    "    maze_type=MAZE_TYPE, rl_algo=Sarsa(alpha=0.1, gamma=0.7),\n",
    "    epsilon=EPSILON, test_length=TEST_LENGTH, transform_timing=TRANSFORM_TIMING)\n",
    "visualize_step_transition(step_log)\n",
    "visualize_policy_transition(step_log, policy_log, sampling_interval=5)"
   ]
  },
  {
   "cell_type": "markdown",
   "metadata": {},
   "source": [
    "# QLearning"
   ]
  },
  {
   "cell_type": "code",
   "execution_count": 96,
   "metadata": {
    "collapsed": false
   },
   "outputs": [
    {
     "name": "stdout",
     "output_type": "stream",
     "text": [
      "minimum step => 14\n"
     ]
    },
    {
     "data": {
      "image/png": "[encoded data removed]",
      "text/plain": [
       "<matplotlib.figure.Figure at 0x106ff8050>"
      ]
     },
     "metadata": {},
     "output_type": "display_data"
    },
    {
     "name": "stdout",
     "output_type": "stream",
     "text": [
      "After 5 th iteration (minimum step => 110)\n",
      "--------G\n",
      "--------^\n",
      "--------^\n",
      "------->^\n",
      "-------^-\n",
      "---------\n",
      "\n",
      "After 10 th iteration (minimum step => 64)\n",
      "--------G\n",
      "--------^\n",
      "------v-^\n",
      "---->>>>^\n",
      "-------^^\n",
      "---------\n",
      "\n",
      "After 15 th iteration (minimum step => 16)\n",
      "--------G\n",
      "--------^\n",
      "------v-^\n",
      "--->>>>>^\n",
      "->>>^--^^\n",
      "---------\n",
      "\n",
      "After 20 th iteration (minimum step => 15)\n",
      "--------G\n",
      "------v-^\n",
      "----v-v-^\n",
      "vv->>>>>^\n",
      ">>>>^--^^\n",
      "---------\n",
      "\n",
      "After 25 th iteration (minimum step => 14)\n",
      "--------G\n",
      "------v-^\n",
      "v---v-v-^\n",
      "vv->>>>>^\n",
      ">>>>^--^^\n",
      "---------\n",
      "\n",
      "After 30 th iteration (minimum step => 14)\n",
      "--------G\n",
      "------v-^\n",
      "v---vvv-^\n",
      "vv->>>>>^\n",
      ">>>>^-^^^\n",
      "->^------\n",
      "\n",
      "After 35 th iteration (minimum step => 14)\n",
      "--------G\n",
      "----v-v-^\n",
      "v---vvv-^\n",
      "vv->>>>>^\n",
      ">>>>^-^^^\n",
      "->^-^----\n",
      "\n",
      "After 40 th iteration (minimum step => 14)\n",
      "--------G\n",
      "----v-v-^\n",
      "v---vvv-^\n",
      "vv->>>>>^\n",
      ">>>>^-^^^\n",
      "->^-^----\n",
      "\n",
      "After 45 th iteration (minimum step => 14)\n",
      "--------G\n",
      "----v-v-^\n",
      "v---vvv-^\n",
      "vv->>>>>^\n",
      ">>>>^-^^^\n",
      "->^<^----\n",
      "\n",
      "After 50 th iteration (minimum step => 14)\n",
      "--------G\n",
      "----v-v-^\n",
      "v---vvv-^\n",
      "vv->>>>>^\n",
      ">>>>^-^^^\n",
      "->^<^----\n",
      "\n"
     ]
    }
   ],
   "source": [
    "TEST_LENGTH = 50\n",
    "EPSILON = 0.1\n",
    "step_log, policy_log = run_performance_test(\n",
    "    maze_type=MAZE_TYPE, rl_algo=QLearning(alpha=0.1, gamma=0.7),\n",
    "    epsilon=EPSILON, test_length=TEST_LENGTH, transform_timing=TRANSFORM_TIMING)\n",
    "visualize_step_transition(step_log)\n",
    "visualize_policy_transition(step_log, policy_log, sampling_interval=5)"
   ]
  },
  {
   "cell_type": "code",
   "execution_count": 97,
   "metadata": {
    "collapsed": false
   },
   "outputs": [
    {
     "name": "stdout",
     "output_type": "stream",
     "text": [
      "minimum step => 16\n"
     ]
    },
    {
     "data": {
      "image/png": "[encoded data removed]",
      "text/plain": [
       "<matplotlib.figure.Figure at 0x10697e850>"
      ]
     },
     "metadata": {},
     "output_type": "display_data"
    },
    {
     "name": "stdout",
     "output_type": "stream",
     "text": [
      "After 5 th iteration (minimum step => 75)\n",
      "--------G\n",
      "--------^\n",
      "--------^\n",
      "------>>^\n",
      "-------^-\n",
      "---------\n",
      "\n",
      "After 10 th iteration (minimum step => 34)\n",
      "--------G\n",
      "---->vv-^\n",
      "----^v<-^\n",
      "----->>>^\n",
      "------>^-\n",
      "-------^-\n",
      "\n",
      "After 15 th iteration (minimum step => 30)\n",
      "---->v--G\n",
      "--->>vv-^\n",
      "--->^v<-^\n",
      "---^>>>>^\n",
      "------>^-\n",
      "-------^-\n",
      "\n",
      "After 20 th iteration (minimum step => 24)\n",
      "->>v>vv-G\n",
      "--->>vv-^\n",
      "--->>v<-^\n",
      "---^>>>>^\n",
      "---^^->^^\n",
      "-------^-\n",
      "\n",
      "After 25 th iteration (minimum step => 16)\n",
      ">>>vvvv-G\n",
      "-^->vvv-^\n",
      ">^->>v<-^\n",
      "^--^>>>>^\n",
      "---^^->^^\n",
      "-------^-\n",
      "\n",
      "After 30 th iteration (minimum step => 16)\n",
      ">>>vvvv-G\n",
      ">^->vvv-^\n",
      ">^->>v<-^\n",
      "^--^>>>>^\n",
      "---^^->^^\n",
      "-------^-\n",
      "\n",
      "After 35 th iteration (minimum step => 16)\n",
      ">>>vvvv-G\n",
      ">^->vvv-^\n",
      ">^->>v<-^\n",
      "^--^>>>>^\n",
      "---^^->^^\n",
      "-------^-\n",
      "\n",
      "After 40 th iteration (minimum step => 16)\n",
      ">>>vvvv-G\n",
      ">^->vvv-^\n",
      ">^->>v<-^\n",
      "^--^>>>>^\n",
      "---^^->^^\n",
      "------^^^\n",
      "\n",
      "After 45 th iteration (minimum step => 16)\n",
      ">>>vvvv-G\n",
      ">^->vvv-^\n",
      ">^->>v<-^\n",
      "^^-^>>>>^\n",
      "---^^->^^\n",
      "------^^^\n",
      "\n",
      "After 50 th iteration (minimum step => 16)\n",
      ">>>vvvv-G\n",
      ">^->vvv-^\n",
      ">^->>v<-^\n",
      "^^-^>>>>^\n",
      "---^^->^^\n",
      "------^^^\n",
      "\n"
     ]
    }
   ],
   "source": [
    "TEST_LENGTH = 50\n",
    "EPSILON = 0.3\n",
    "step_log, policy_log = run_performance_test(\n",
    "    maze_type=MAZE_TYPE, rl_algo=QLearning(alpha=0.1, gamma=0.7),\n",
    "    epsilon=EPSILON, test_length=TEST_LENGTH, transform_timing=TRANSFORM_TIMING)\n",
    "visualize_step_transition(step_log)\n",
    "visualize_policy_transition(step_log, policy_log, sampling_interval=5)"
   ]
  },
  {
   "cell_type": "code",
   "execution_count": 98,
   "metadata": {
    "collapsed": false
   },
   "outputs": [
    {
     "name": "stdout",
     "output_type": "stream",
     "text": [
      "minimum step => 14\n"
     ]
    },
    {
     "data": {
      "image/png": "[encoded data removed]",
      "text/plain": [
       "<matplotlib.figure.Figure at 0x1071e6410>"
      ]
     },
     "metadata": {},
     "output_type": "display_data"
    },
    {
     "name": "stdout",
     "output_type": "stream",
     "text": [
      "After 5 th iteration (minimum step => 91)\n",
      "--------G\n",
      "--------^\n",
      "--------^\n",
      "------>>^\n",
      "------^^^\n",
      "-------^-\n",
      "\n",
      "After 10 th iteration (minimum step => 45)\n",
      "--->>v--G\n",
      "----^vv-^\n",
      "--->>>v-^\n",
      "---->^>>^\n",
      "------>^^\n",
      "-------^^\n",
      "\n",
      "After 15 th iteration (minimum step => 20)\n",
      "--->>vv-G\n",
      "----^>v-^\n",
      "--->>vv-^\n",
      "--->^>>>^\n",
      "-->^^-^^^\n",
      "--^>^--^^\n",
      "\n",
      "After 20 th iteration (minimum step => 14)\n",
      "--->>vv-G\n",
      "--->v>v-^\n",
      "vv->vvv-^\n",
      "vv->>>>>^\n",
      ">>>^^->^^\n",
      ">>^>^-^^^\n",
      "\n",
      "After 25 th iteration (minimum step => 14)\n",
      "->>v>vv-G\n",
      ">v->vvv-^\n",
      "v<->>vv-^\n",
      "vv->>>>>^\n",
      ">>>^^->^^\n",
      ">^^>^>^<^\n",
      "\n",
      "After 30 th iteration (minimum step => 14)\n",
      "->>v>vv-G\n",
      "vv-vvvv-^\n",
      "v<->vvv-^\n",
      "vv->>>>>^\n",
      ">>>^^->^^\n",
      "^^^^^>^^^\n",
      "\n",
      "After 35 th iteration (minimum step => 14)\n",
      ">v>v>vv-G\n",
      "vv-v>vv-^\n",
      "vv-vvvv-^\n",
      "vv->>>>>^\n",
      ">>>^^->^^\n",
      "^^^^>>^^^\n",
      "\n",
      "After 40 th iteration (minimum step => 14)\n",
      ">v>v>vv-G\n",
      "vv-v>vv-^\n",
      ">v-vvvv-^\n",
      "vv->>>>>^\n",
      ">>>^^->^^\n",
      "^^^^>>^^^\n",
      "\n",
      "After 45 th iteration (minimum step => 14)\n",
      ">v>v>vv-G\n",
      "vv->vvv-^\n",
      ">v-vvvv-^\n",
      "vv->>>>>^\n",
      ">>>^^->^^\n",
      "^^^^>>^^^\n",
      "\n",
      "After 50 th iteration (minimum step => 14)\n",
      ">v>v>vv-G\n",
      "vv->vvv-^\n",
      ">v-vvvv-^\n",
      ">v->>>>>^\n",
      ">>>^^->^^\n",
      "^^^^^>^^^\n",
      "\n"
     ]
    }
   ],
   "source": [
    "TEST_LENGTH = 50\n",
    "EPSILON = 0.7\n",
    "step_log, policy_log = run_performance_test(\n",
    "    maze_type=MAZE_TYPE, rl_algo=QLearning(alpha=0.1, gamma=0.7),\n",
    "    epsilon=EPSILON, test_length=TEST_LENGTH, transform_timing=TRANSFORM_TIMING)\n",
    "visualize_step_transition(step_log)\n",
    "visualize_policy_transition(step_log, policy_log, sampling_interval=5)"
   ]
  },
  {
   "cell_type": "markdown",
   "metadata": {},
   "source": [
    "# SarsaLambda"
   ]
  },
  {
   "cell_type": "code",
   "execution_count": 105,
   "metadata": {
    "collapsed": false
   },
   "outputs": [
    {
     "name": "stdout",
     "output_type": "stream",
     "text": [
      "minimum step => 18\n"
     ]
    },
    {
     "data": {
      "image/png": "[encoded data removed]",
      "text/plain": [
       "<matplotlib.figure.Figure at 0x106989d10>"
      ]
     },
     "metadata": {},
     "output_type": "display_data"
    },
    {
     "name": "stdout",
     "output_type": "stream",
     "text": [
      "After 5 th iteration (minimum step => 10000)\n",
      ">>>vv---G\n",
      "^--<>>v-^\n",
      "^-->>^v-^\n",
      "----^>^v^\n",
      "------^>^\n",
      "---------\n",
      "\n",
      "After 10 th iteration (minimum step => 10000)\n",
      ">>>vv---G\n",
      "^<-<>>v-^\n",
      "^^->>^v-^\n",
      "----^>^v^\n",
      "------^>^\n",
      "---------\n",
      "\n",
      "After 15 th iteration (minimum step => 10000)\n",
      ">>>vv<--G\n",
      "^<-<>>v-^\n",
      "^^->>^v-^\n",
      "^---^>>v^\n",
      "------^>^\n",
      "---------\n",
      "\n",
      "After 20 th iteration (minimum step => 18)\n",
      ">>>vv<v-G\n",
      "^<->>>v-^\n",
      "^^->>^v-^\n",
      "^---^>>v^\n",
      "------^>^\n",
      "---------\n",
      "\n",
      "After 25 th iteration (minimum step => 18)\n",
      ">>>vv<v-G\n",
      "^<->>>v-^\n",
      "^^->>^v-^\n",
      "^---^>>v^\n",
      "------^>^\n",
      "---------\n",
      "\n",
      "After 30 th iteration (minimum step => 18)\n",
      ">>>vv<v-G\n",
      "^<->>>v-^\n",
      "^^->^>v-^\n",
      "^---^>>v^\n",
      "------^>^\n",
      "---------\n",
      "\n",
      "After 35 th iteration (minimum step => 18)\n",
      ">>>vv<v-G\n",
      "^<->>>v-^\n",
      "^^->^>v-^\n",
      "^---^>>v^\n",
      "------^>^\n",
      "---------\n",
      "\n",
      "After 40 th iteration (minimum step => 18)\n",
      ">>>vv<v-G\n",
      "^<->>>v-^\n",
      "^^->^>v-^\n",
      "^---^>>v^\n",
      "------^>^\n",
      "---------\n",
      "\n",
      "After 45 th iteration (minimum step => 18)\n",
      ">>>vv<v-G\n",
      "^<->>>v-^\n",
      "^^->^>v-^\n",
      "^---^>>v^\n",
      "------^>^\n",
      "--------^\n",
      "\n",
      "After 50 th iteration (minimum step => 18)\n",
      ">>>vv<v-G\n",
      "^<->>>v-^\n",
      "^^->^>v-^\n",
      "^---^>>v^\n",
      "------^>^\n",
      "--------^\n",
      "\n"
     ]
    }
   ],
   "source": [
    "TEST_LENGTH = 50\n",
    "EPSILON = 0.1\n",
    "step_log, policy_log = run_performance_test(\n",
    "    maze_type=MAZE_TYPE, rl_algo=SarsaLambda(alpha=0.1, gamma=0.9),\n",
    "    epsilon=EPSILON, test_length=TEST_LENGTH, transform_timing=TRANSFORM_TIMING)\n",
    "visualize_step_transition(step_log)\n",
    "visualize_policy_transition(step_log, policy_log, sampling_interval=5)"
   ]
  },
  {
   "cell_type": "code",
   "execution_count": 100,
   "metadata": {
    "collapsed": false
   },
   "outputs": [
    {
     "name": "stdout",
     "output_type": "stream",
     "text": [
      "minimum step => 22\n"
     ]
    },
    {
     "data": {
      "image/png": "[encoded data removed]",
      "text/plain": [
       "<matplotlib.figure.Figure at 0x106fbe050>"
      ]
     },
     "metadata": {},
     "output_type": "display_data"
    },
    {
     "name": "stdout",
     "output_type": "stream",
     "text": [
      "After 5 th iteration (minimum step => 10000)\n",
      ">><<<>v-G\n",
      "^v-^^<^->\n",
      "^v-^<^^-^\n",
      "v<-<v><^^\n",
      ">vv<v-v>^\n",
      "<^vv<<>>^\n",
      "\n",
      "After 10 th iteration (minimum step => 22)\n",
      "v^>^>><-G\n",
      ">>->>v>-^\n",
      "v<-^<>v-^\n",
      "vv-^vvv^^\n",
      ">v<^<->>^\n",
      "^>>^<<<^-\n",
      "\n",
      "After 15 th iteration (minimum step => 22)\n",
      "v<<>^vv-G\n",
      "vv-<<vv-^\n",
      ">v-^>>v-^\n",
      "^v->^vv^^\n",
      "^^>v^->>^\n",
      "^^^^<<<^-\n",
      "\n",
      "After 20 th iteration (minimum step => 22)\n",
      "v<<<^vv-G\n",
      "v^-<<vv-^\n",
      "<>-^>>v-^\n",
      ">^->^vv^^\n",
      "^>^^<->>^\n",
      "^^<<v<<<<\n",
      "\n",
      "After 25 th iteration (minimum step => 22)\n",
      "<<><^v<-G\n",
      "v>-<<v^-^\n",
      "<^-^>>v-^\n",
      "><->^vv^^\n",
      "><^^^->>^\n",
      "v<v<><<<<\n",
      "\n",
      "After 30 th iteration (minimum step => 22)\n",
      "v<>^^v<-G\n",
      "^v-^<v^-^\n",
      "<<-^>>v-^\n",
      "^^->^vv^^\n",
      ">v^>^->>^\n",
      "v^v<><<<<\n",
      "\n",
      "After 35 th iteration (minimum step => 22)\n",
      "v^<<vvv-G\n",
      "v>-><v^-^\n",
      "v>->>>v-^\n",
      ">^-<^vv^^\n",
      "^^^>^->>^\n",
      "v<v<><<<<\n",
      "\n",
      "After 40 th iteration (minimum step => 22)\n",
      "vv<<vvv-G\n",
      ">v->>v^-^\n",
      "v<->>>v-^\n",
      "v<->^vv^^\n",
      "<>><^->>^\n",
      ">^^<v<<^<\n",
      "\n",
      "After 45 th iteration (minimum step => 22)\n",
      "<v><v<v-G\n",
      "vv->>v^-^\n",
      "^^->>>v-^\n",
      "^^-^vvv^^\n",
      ">v>^>->>^\n",
      "><^<><<^<\n",
      "\n",
      "After 50 th iteration (minimum step => 22)\n",
      ">v<<v<v-G\n",
      ">v->>vv-^\n",
      "^v->>>v-^\n",
      "^v-^v<v^^\n",
      "^^>^v->>^\n",
      ">v>vvv<^<\n",
      "\n"
     ]
    }
   ],
   "source": [
    "TEST_LENGTH = 50\n",
    "EPSILON = 0.3\n",
    "step_log, policy_log = run_performance_test(\n",
    "    maze_type=MAZE_TYPE, rl_algo=SarsaLambda(alpha=0.1, gamma=0.7),\n",
    "    epsilon=EPSILON, test_length=TEST_LENGTH, transform_timing=TRANSFORM_TIMING)\n",
    "visualize_step_transition(step_log)\n",
    "visualize_policy_transition(step_log, policy_log, sampling_interval=5)"
   ]
  },
  {
   "cell_type": "code",
   "execution_count": 106,
   "metadata": {
    "collapsed": false
   },
   "outputs": [
    {
     "name": "stdout",
     "output_type": "stream",
     "text": [
      "minimum step => 16\n"
     ]
    },
    {
     "data": {
      "image/png": "[encoded data removed]",
      "text/plain": [
       "<matplotlib.figure.Figure at 0x106ce4390>"
      ]
     },
     "metadata": {},
     "output_type": "display_data"
    },
    {
     "name": "stdout",
     "output_type": "stream",
     "text": [
      "After 5 th iteration (minimum step => 10000)\n",
      "--------G\n",
      "------v->\n",
      "vv-vv->-^\n",
      "v<-><>>>^\n",
      ">>>>v->>^\n",
      "---^><^>^\n",
      "\n",
      "After 10 th iteration (minimum step => 10000)\n",
      "--------G\n",
      "------v->\n",
      "vv-vv->-^\n",
      "v>->>>>>^\n",
      ">>>>v->>^\n",
      "---^>>^>^\n",
      "\n",
      "After 15 th iteration (minimum step => 16)\n",
      "-v------G\n",
      "v>----v-^\n",
      "vv-vv->-^\n",
      "v>->>>>>^\n",
      ">>>>v->>^\n",
      "^^-^>>^>^\n",
      "\n",
      "After 20 th iteration (minimum step => 16)\n",
      "-v------G\n",
      "v>----v-^\n",
      "vv-vv->-^\n",
      "v>->>>>>^\n",
      ">>>>v->>^\n",
      "^^-^>>^>^\n",
      "\n",
      "After 25 th iteration (minimum step => 16)\n",
      "-v------G\n",
      "v>----v-^\n",
      "vv-vv->-^\n",
      "v>->>>>>^\n",
      ">>>>v->>^\n",
      "^^-^>>^>^\n",
      "\n",
      "After 30 th iteration (minimum step => 16)\n",
      "-v------G\n",
      "v>----v-^\n",
      "vv-vv->-^\n",
      "v>->>>>>^\n",
      ">>>>v->>^\n",
      "^^-^>>^>^\n",
      "\n",
      "After 35 th iteration (minimum step => 16)\n",
      "-v------G\n",
      "v>----v-^\n",
      "vv-vv->-^\n",
      "v>-<>>>>^\n",
      ">>>>v->>^\n",
      "^^<^>>^>^\n",
      "\n",
      "After 40 th iteration (minimum step => 16)\n",
      "-v------G\n",
      "v>----v-^\n",
      "vv-vv->-^\n",
      "v>-<>>>>^\n",
      ">>>>v->>^\n",
      "^^<^>>^>^\n",
      "\n",
      "After 45 th iteration (minimum step => 16)\n",
      "-v------G\n",
      "v>----v-^\n",
      "vv-vv->-^\n",
      "v>-<>>>>^\n",
      ">>>>v->>^\n",
      "^^<^>>^>^\n",
      "\n",
      "After 50 th iteration (minimum step => 16)\n",
      "-v------G\n",
      "v>----v-^\n",
      "vv-vv->-^\n",
      "vv-<>>>>^\n",
      ">>>>v->>^\n",
      "^^<^>>^>^\n",
      "\n"
     ]
    }
   ],
   "source": [
    "TEST_LENGTH = 50\n",
    "EPSILON = 0.3\n",
    "step_log, policy_log = run_performance_test(\n",
    "    maze_type=MAZE_TYPE, rl_algo=SarsaLambda(alpha=0.1, gamma=0.9),\n",
    "    epsilon=EPSILON, test_length=TEST_LENGTH, transform_timing=TRANSFORM_TIMING)\n",
    "visualize_step_transition(step_log)\n",
    "visualize_policy_transition(step_log, policy_log, sampling_interval=5)"
   ]
  },
  {
   "cell_type": "code",
   "execution_count": 101,
   "metadata": {
    "collapsed": false
   },
   "outputs": [
    {
     "name": "stdout",
     "output_type": "stream",
     "text": [
      "minimum step => 16\n"
     ]
    },
    {
     "data": {
      "image/png": "[encoded data removed]",
      "text/plain": [
       "<matplotlib.figure.Figure at 0x106dde5d0>"
      ]
     },
     "metadata": {},
     "output_type": "display_data"
    },
    {
     "name": "stdout",
     "output_type": "stream",
     "text": [
      "After 5 th iteration (minimum step => 10000)\n",
      ">^v<>v^-G\n",
      "<<-vv<>-^\n",
      ">>->v<^-^\n",
      "><-^>v>>^\n",
      "v<<>v-v^^\n",
      "<^>>>^>v<\n",
      "\n",
      "After 10 th iteration (minimum step => 10000)\n",
      "<^v>>v^-G\n",
      ">v-v<^>-^\n",
      ">^-<<<>-^\n",
      "<<-<>>>>^\n",
      "v<^<>-^^^\n",
      "^vv<^>^^<\n",
      "\n",
      "After 15 th iteration (minimum step => 10000)\n",
      "<^v>>v>-G\n",
      "><-<^v>-^\n",
      "v^-><^>-^\n",
      "><->>>>>^\n",
      "v<<<v-v^^\n",
      "><^<^<>^<\n",
      "\n",
      "After 20 th iteration (minimum step => 10000)\n",
      "<^v>vvv-G\n",
      "v<-<<v<-^\n",
      "v>-v<<>-^\n",
      "<v->>>>>^\n",
      "v><<v-<^^\n",
      ">>><v<v^<\n",
      "\n",
      "After 25 th iteration (minimum step => 10000)\n",
      "<^v>>vv-G\n",
      "vv-^<v<-^\n",
      "v>-<><>-^\n",
      "^<-<>v>>^\n",
      "v><>v-<^^\n",
      "vv<v^<v^<\n",
      "\n",
      "After 30 th iteration (minimum step => 10000)\n",
      "<>>>^v>-G\n",
      ">v-^<v<-^\n",
      "^v-^^v<-^\n",
      "vv-<<><>^\n",
      ">>>>v-^^v\n",
      ">^<<^>v^>\n",
      "\n",
      "After 35 th iteration (minimum step => 16)\n",
      "vv<<<v>-G\n",
      ">>-v^v<-^\n",
      ">v-<<^^-^\n",
      "vv-<<>>>^\n",
      ">>>>v-^^v\n",
      ">^<<>>^^>\n",
      "\n",
      "After 40 th iteration (minimum step => 16)\n",
      ">v<<<><-G\n",
      "><-^^<^-^\n",
      ">^-v<<>-^\n",
      "<v-><<>>^\n",
      "<<vvv-^^v\n",
      "^><<^>>^>\n",
      "\n",
      "After 45 th iteration (minimum step => 16)\n",
      ">^v^>^<-G\n",
      "^>-^^<^-^\n",
      "v<->^<>-^\n",
      "v<->^<>>^\n",
      ">v<<v-<v^\n",
      "^><<^^<^<\n",
      "\n",
      "After 50 th iteration (minimum step => 16)\n",
      ">><<v^<-G\n",
      "<^-v<<^-^\n",
      "<<-v<<^-^\n",
      "v^->>>v>^\n",
      ">v^^<-<^^\n",
      ">>>v^^^^<\n",
      "\n"
     ]
    }
   ],
   "source": [
    "TEST_LENGTH = 50\n",
    "EPSILON = 0.7\n",
    "step_log, policy_log = run_performance_test(\n",
    "    maze_type=MAZE_TYPE, rl_algo=SarsaLambda(alpha=0.1, gamma=0.7),\n",
    "    epsilon=EPSILON, test_length=TEST_LENGTH, transform_timing=TRANSFORM_TIMING)\n",
    "visualize_step_transition(step_log)\n",
    "visualize_policy_transition(step_log, policy_log, sampling_interval=5)"
   ]
  },
  {
   "cell_type": "markdown",
   "metadata": {},
   "source": [
    "# QLambda"
   ]
  },
  {
   "cell_type": "code",
   "execution_count": 102,
   "metadata": {
    "collapsed": false
   },
   "outputs": [
    {
     "name": "stdout",
     "output_type": "stream",
     "text": [
      "minimum step => 20\n"
     ]
    },
    {
     "data": {
      "image/png": "[encoded data removed]",
      "text/plain": [
       "<matplotlib.figure.Figure at 0x103b52990>"
      ]
     },
     "metadata": {},
     "output_type": "display_data"
    },
    {
     "name": "stdout",
     "output_type": "stream",
     "text": [
      "After 5 th iteration (minimum step => 110)\n",
      "--------G\n",
      "--------^\n",
      "--------^\n",
      "--------^\n",
      "--------^\n",
      "--------^\n",
      "\n",
      "After 10 th iteration (minimum step => 59)\n",
      "--------G\n",
      "--------^\n",
      "------v-^\n",
      "------v-^\n",
      "------>v^\n",
      "------->^\n",
      "\n",
      "After 15 th iteration (minimum step => 32)\n",
      "---v<---G\n",
      "--->>v--^\n",
      "---->>v-^\n",
      "------v-^\n",
      "------>v^\n",
      "------^>^\n",
      "\n",
      "After 20 th iteration (minimum step => 21)\n",
      ">>>v<---G\n",
      "^<->>v--^\n",
      "---->>v-^\n",
      "------v-^\n",
      "------>v^\n",
      "--->>>^>^\n",
      "\n",
      "After 25 th iteration (minimum step => 20)\n",
      ">>>v<---G\n",
      "^<->>v--^\n",
      "^--->>v-^\n",
      "------v-^\n",
      "------>v^\n",
      "--->>>^>^\n",
      "\n",
      "After 30 th iteration (minimum step => 20)\n",
      ">>>v<---G\n",
      "^<->>v--^\n",
      "^--->>v-^\n",
      "------v-^\n",
      "------>v^\n",
      "--->>>^>^\n",
      "\n",
      "After 35 th iteration (minimum step => 20)\n",
      ">>>v<---G\n",
      "^<->>v--^\n",
      "^--->>v-^\n",
      "------v>^\n",
      "------>v^\n",
      "--->>>^>^\n",
      "\n",
      "After 40 th iteration (minimum step => 20)\n",
      ">>>v<v--G\n",
      "^<->>v--^\n",
      "^--->>v-^\n",
      "------v>^\n",
      "------>v^\n",
      "--->>>^>^\n",
      "\n",
      "After 45 th iteration (minimum step => 20)\n",
      ">>>v<v--G\n",
      "^<->>v--^\n",
      "^--->>v-^\n",
      "------v>^\n",
      "------>v^\n",
      "--->>>^>^\n",
      "\n",
      "After 50 th iteration (minimum step => 20)\n",
      ">>>v<v--G\n",
      "^<->>v--^\n",
      "^--->>v-^\n",
      "------v>^\n",
      "------>v^\n",
      "--->>>^>^\n",
      "\n"
     ]
    }
   ],
   "source": [
    "TEST_LENGTH = 50\n",
    "EPSILON = 0.1\n",
    "step_log, policy_log = run_performance_test(\n",
    "    maze_type=MAZE_TYPE, rl_algo=QLambda(alpha=0.1, gamma=0.7),\n",
    "    epsilon=EPSILON, test_length=TEST_LENGTH, transform_timing=TRANSFORM_TIMING)\n",
    "visualize_step_transition(step_log)\n",
    "visualize_policy_transition(step_log, policy_log, sampling_interval=5)"
   ]
  },
  {
   "cell_type": "code",
   "execution_count": 103,
   "metadata": {
    "collapsed": false
   },
   "outputs": [
    {
     "name": "stdout",
     "output_type": "stream",
     "text": [
      "minimum step => 16\n"
     ]
    },
    {
     "data": {
      "image/png": "[encoded data removed]",
      "text/plain": [
       "<matplotlib.figure.Figure at 0x106989410>"
      ]
     },
     "metadata": {},
     "output_type": "display_data"
    },
    {
     "name": "stdout",
     "output_type": "stream",
     "text": [
      "After 5 th iteration (minimum step => 57)\n",
      "--------G\n",
      "--------^\n",
      "--------^\n",
      "------->^\n",
      "--------^\n",
      "--------^\n",
      "\n",
      "After 10 th iteration (minimum step => 51)\n",
      "----v---G\n",
      "----v---^\n",
      "---->v--^\n",
      "----->>>^\n",
      "------->^\n",
      "------->^\n",
      "\n",
      "After 15 th iteration (minimum step => 24)\n",
      "->>>v<--G\n",
      "----v---^\n",
      "---->v<-^\n",
      "--->>>>>^\n",
      "---^-->>^\n",
      "-------^^\n",
      "\n",
      "After 20 th iteration (minimum step => 16)\n",
      ">>>>v<--G\n",
      "^---vv--^\n",
      "^<-->v<-^\n",
      "--->>>>>^\n",
      "---^-->>^\n",
      "-------^^\n",
      "\n",
      "After 25 th iteration (minimum step => 16)\n",
      ">>>>v<--G\n",
      "^---vv--^\n",
      "^<-v>v<-^\n",
      "--->>>>>^\n",
      "-->^^->>^\n",
      "-->^---^^\n",
      "\n",
      "After 30 th iteration (minimum step => 16)\n",
      ">>>>v<--G\n",
      "^---vv--^\n",
      "^<-v>v<-^\n",
      "--->>>>>^\n",
      "-->^^->>^\n",
      "-->^---^^\n",
      "\n",
      "After 35 th iteration (minimum step => 16)\n",
      ">>>>v<--G\n",
      "^---vv--^\n",
      "^<-v>v<-^\n",
      "^-->>>>>^\n",
      "-->^^->>^\n",
      "-->^---^^\n",
      "\n",
      "After 40 th iteration (minimum step => 16)\n",
      ">>>>v<--G\n",
      "^<--vv--^\n",
      "^<-v>v<-^\n",
      "^-->>>>>^\n",
      "-->^^->>^\n",
      "-->^---^^\n",
      "\n",
      "After 45 th iteration (minimum step => 16)\n",
      ">>>>v<--G\n",
      "^<--vv--^\n",
      "^<-v>v<-^\n",
      "^-->>>>>^\n",
      "^->^^->>^\n",
      "-->^---^^\n",
      "\n",
      "After 50 th iteration (minimum step => 16)\n",
      ">>>>v<--G\n",
      "^<-vvv<-^\n",
      "^<-v>v<-^\n",
      "^-->>>>>^\n",
      "^->^^->>^\n",
      "-->^---^^\n",
      "\n"
     ]
    }
   ],
   "source": [
    "TEST_LENGTH = 50\n",
    "EPSILON = 0.3\n",
    "step_log, policy_log = run_performance_test(\n",
    "    maze_type=MAZE_TYPE, rl_algo=QLambda(alpha=0.1, gamma=0.7),\n",
    "    epsilon=EPSILON, test_length=TEST_LENGTH, transform_timing=TRANSFORM_TIMING)\n",
    "visualize_step_transition(step_log)\n",
    "visualize_policy_transition(step_log, policy_log, sampling_interval=5)"
   ]
  },
  {
   "cell_type": "code",
   "execution_count": 104,
   "metadata": {
    "collapsed": false
   },
   "outputs": [
    {
     "name": "stdout",
     "output_type": "stream",
     "text": [
      "minimum step => 14\n"
     ]
    },
    {
     "data": {
      "image/png": "[encoded data removed]",
      "text/plain": [
       "<matplotlib.figure.Figure at 0x106bdaf90>"
      ]
     },
     "metadata": {},
     "output_type": "display_data"
    },
    {
     "name": "stdout",
     "output_type": "stream",
     "text": [
      "After 5 th iteration (minimum step => 50)\n",
      "--------G\n",
      "--------^\n",
      "--------^\n",
      "------vv^\n",
      "------>>^\n",
      "---------\n",
      "\n",
      "After 10 th iteration (minimum step => 22)\n",
      "--------G\n",
      "--------^\n",
      "--------^\n",
      "--->>>v>^\n",
      "----^->>^\n",
      "----^-^^<\n",
      "\n",
      "After 15 th iteration (minimum step => 16)\n",
      "-->>v---G\n",
      "--->>v--^\n",
      "v-->>vv-^\n",
      "vv->>>v>^\n",
      ">>>>^->>^\n",
      "^^>^^>^^^\n",
      "\n",
      "After 20 th iteration (minimum step => 16)\n",
      "-->>v<v-G\n",
      "vv->>>v-^\n",
      ">v->>vv-^\n",
      ">v->>>v>^\n",
      "^>>>^->>^\n",
      "^^>^^>^^^\n",
      "\n",
      "After 25 th iteration (minimum step => 14)\n",
      "-->>v<v-G\n",
      "vv->>vv-^\n",
      ">v->>vv-^\n",
      ">v->>>>>^\n",
      ">>>>^->>^\n",
      "^^>^^>^^^\n",
      "\n",
      "After 30 th iteration (minimum step => 14)\n",
      ">v>>v<v-G\n",
      ">v->>vv-^\n",
      ">v->>vv-^\n",
      ">v-^>>>>^\n",
      ">>>>^->>^\n",
      "^^>^>>^^^\n",
      "\n",
      "After 35 th iteration (minimum step => 14)\n",
      "vv>>v>v-G\n",
      ">v->>vv-^\n",
      ">v->>vv-^\n",
      ">v->>>>>^\n",
      ">>>>^->>^\n",
      "^>>^>>^^^\n",
      "\n",
      "After 40 th iteration (minimum step => 14)\n",
      "vv>>v>v-G\n",
      ">v->>vv-^\n",
      ">v->>vv-^\n",
      ">v->>>>>^\n",
      ">>>>^->>^\n",
      "^>>^>>^^^\n",
      "\n",
      "After 45 th iteration (minimum step => 14)\n",
      "vv>>v>v-G\n",
      ">v->>vv-^\n",
      ">v->>vv-^\n",
      ">v->>>>>^\n",
      ">>>>^->>^\n",
      "^>>^^>^^^\n",
      "\n",
      "After 50 th iteration (minimum step => 14)\n",
      "vv>>v>v-G\n",
      ">v->>vv-^\n",
      ">v->>vv-^\n",
      ">v->>>>>^\n",
      ">>>>^->>^\n",
      "^>>^^>^^^\n",
      "\n"
     ]
    }
   ],
   "source": [
    "TEST_LENGTH = 50\n",
    "EPSILON = 0.7\n",
    "step_log, policy_log = run_performance_test(\n",
    "    maze_type=MAZE_TYPE, rl_algo=QLambda(alpha=0.1, gamma=0.7),\n",
    "    epsilon=EPSILON, test_length=TEST_LENGTH, transform_timing=TRANSFORM_TIMING)\n",
    "visualize_step_transition(step_log)\n",
    "visualize_policy_transition(step_log, policy_log, sampling_interval=5)"
   ]
  }
 ],
 "metadata": {
  "kernelspec": {
   "display_name": "Python 2",
   "language": "python",
   "name": "python2"
  },
  "language_info": {
   "codemirror_mode": {
    "name": "ipython",
    "version": 2
   },
   "file_extension": ".py",
   "mimetype": "text/x-python",
   "name": "python",
   "nbconvert_exporter": "python",
   "pygments_lexer": "ipython2",
   "version": "2.7.11"
  }
 },
 "nbformat": 4,
 "nbformat_minor": 0
}
